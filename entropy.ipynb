{
 "cells": [
  {
   "cell_type": "markdown",
   "id": "4fe3b42b",
   "metadata": {},
   "source": [
    "# Algorithms for efficient entropy conversion\n",
    "\n",
    "By Calum Grant, June 2025\n",
    "\n",
    "This page is to reproduce the results of the accompanying paper."
   ]
  },
  {
   "cell_type": "markdown",
   "id": "83f6f0c2",
   "metadata": {},
   "source": [
    "The code is in the accompanying [entropy.py](entropy.py) file. We'll import it as follows:"
   ]
  },
  {
   "cell_type": "code",
   "execution_count": 35,
   "id": "9cebb3d2",
   "metadata": {},
   "outputs": [],
   "source": [
    "from entropy import *"
   ]
  },
  {
   "cell_type": "markdown",
   "id": "e6684fb7",
   "metadata": {},
   "source": [
    "## Basic entropy operations\n",
    "\n",
    "The 4 basic operations are provided by `multiply()`, `divide()`, `downsample()` and `upsample()` functions."
   ]
  },
  {
   "cell_type": "code",
   "execution_count": 36,
   "id": "d941a330",
   "metadata": {},
   "outputs": [
    {
     "data": {
      "text/plain": [
       "(25, 30)"
      ]
     },
     "execution_count": 36,
     "metadata": {},
     "output_type": "execute_result"
    }
   ],
   "source": [
    "multiply(1,6,4,5)"
   ]
  },
  {
   "cell_type": "code",
   "execution_count": 37,
   "id": "c9a42c61",
   "metadata": {},
   "outputs": [
    {
     "data": {
      "text/plain": [
       "(1, 6, 4, 5)"
      ]
     },
     "execution_count": 37,
     "metadata": {},
     "output_type": "execute_result"
    }
   ],
   "source": [
    "divide(25,30,6)"
   ]
  },
  {
   "cell_type": "code",
   "execution_count": 38,
   "id": "a5491d82",
   "metadata": {},
   "outputs": [
    {
     "data": {
      "text/plain": [
       "(7, 33, False)"
      ]
     },
     "execution_count": 38,
     "metadata": {},
     "output_type": "execute_result"
    }
   ],
   "source": [
    "downsample(10,36,3)"
   ]
  },
  {
   "cell_type": "code",
   "execution_count": 39,
   "id": "e64ea7fd",
   "metadata": {},
   "outputs": [
    {
     "data": {
      "text/plain": [
       "(10, 36)"
      ]
     },
     "execution_count": 39,
     "metadata": {},
     "output_type": "execute_result"
    }
   ],
   "source": [
    "upsample(7, 33, 36, False)"
   ]
  },
  {
   "cell_type": "markdown",
   "id": "24da6c12",
   "metadata": {},
   "source": [
    "## Distributions\n",
    "\n",
    "The `entropy` module also defines the distributions `U` and `B`. We can construct `U` objects manually as follows:"
   ]
  },
  {
   "cell_type": "code",
   "execution_count": 40,
   "id": "2c9173a3",
   "metadata": {},
   "outputs": [
    {
     "data": {
      "text/plain": [
       "U(6)"
      ]
     },
     "execution_count": 40,
     "metadata": {},
     "output_type": "execute_result"
    }
   ],
   "source": [
    "U(4,6)"
   ]
  },
  {
   "cell_type": "markdown",
   "id": "5fba80ba",
   "metadata": {},
   "source": [
    "The default `U` object has size 1, which means it has no entropy."
   ]
  },
  {
   "cell_type": "code",
   "execution_count": 41,
   "id": "63d12cf6",
   "metadata": {},
   "outputs": [
    {
     "data": {
      "text/plain": [
       "U(1)"
      ]
     },
     "execution_count": 41,
     "metadata": {},
     "output_type": "execute_result"
    }
   ],
   "source": [
    "U()"
   ]
  },
  {
   "cell_type": "markdown",
   "id": "1fc13aba",
   "metadata": {},
   "source": [
    "We can measure the stored entropy using the `entropy()` method:"
   ]
  },
  {
   "cell_type": "code",
   "execution_count": 42,
   "id": "ce82b68b",
   "metadata": {},
   "outputs": [
    {
     "data": {
      "text/plain": [
       "0.0"
      ]
     },
     "execution_count": 42,
     "metadata": {},
     "output_type": "execute_result"
    }
   ],
   "source": [
    "U().entropy()"
   ]
  },
  {
   "cell_type": "code",
   "execution_count": 43,
   "id": "045bdc04",
   "metadata": {},
   "outputs": [
    {
     "data": {
      "text/plain": [
       "2.584962500721156"
      ]
     },
     "execution_count": 43,
     "metadata": {},
     "output_type": "execute_result"
    }
   ],
   "source": [
    "U(1,6).entropy()"
   ]
  },
  {
   "cell_type": "markdown",
   "id": "703f3a88",
   "metadata": {},
   "source": [
    "Whenever you read or consume the entropy, the original entropy becomes empty (`U(1)`). This is to prevent errors reusing the same entropy."
   ]
  },
  {
   "cell_type": "code",
   "execution_count": 44,
   "id": "cb5ae0ad",
   "metadata": {},
   "outputs": [
    {
     "data": {
      "text/plain": [
       "1"
      ]
     },
     "execution_count": 44,
     "metadata": {},
     "output_type": "execute_result"
    }
   ],
   "source": [
    "x = U(1,6)\n",
    "x.entropy()\n",
    "x.read()"
   ]
  },
  {
   "cell_type": "markdown",
   "id": "1d885efe",
   "metadata": {},
   "source": [
    "Calling `read()` turned `x` into a pumpkin!"
   ]
  },
  {
   "cell_type": "code",
   "execution_count": 45,
   "id": "ff5555b7",
   "metadata": {},
   "outputs": [
    {
     "data": {
      "text/plain": [
       "U(1)"
      ]
     },
     "execution_count": 45,
     "metadata": {},
     "output_type": "execute_result"
    }
   ],
   "source": [
    "x\n"
   ]
  },
  {
   "cell_type": "code",
   "execution_count": 46,
   "id": "4ad9a833",
   "metadata": {},
   "outputs": [
    {
     "data": {
      "text/plain": [
       "0.0"
      ]
     },
     "execution_count": 46,
     "metadata": {},
     "output_type": "execute_result"
    }
   ],
   "source": [
    "x.entropy()"
   ]
  },
  {
   "cell_type": "markdown",
   "id": "726b437f",
   "metadata": {},
   "source": [
    "The basic entropy operations are implemented on `U`:"
   ]
  },
  {
   "cell_type": "code",
   "execution_count": 47,
   "id": "b1a27c15",
   "metadata": {},
   "outputs": [
    {
     "data": {
      "text/plain": [
       "U(36)"
      ]
     },
     "execution_count": 47,
     "metadata": {},
     "output_type": "execute_result"
    }
   ],
   "source": [
    "U(1,6).multiply(U(2,6))"
   ]
  },
  {
   "cell_type": "code",
   "execution_count": 48,
   "id": "b5a27c43",
   "metadata": {},
   "outputs": [
    {
     "data": {
      "text/plain": [
       "(U(26), B(10/36))"
      ]
     },
     "execution_count": 48,
     "metadata": {},
     "output_type": "execute_result"
    }
   ],
   "source": [
    "U(10,36).downsample(10)"
   ]
  },
  {
   "cell_type": "code",
   "execution_count": 49,
   "id": "65a62ae5",
   "metadata": {},
   "outputs": [
    {
     "data": {
      "text/plain": [
       "(U(10), B(10/36))"
      ]
     },
     "execution_count": 49,
     "metadata": {},
     "output_type": "execute_result"
    }
   ],
   "source": [
    "U(9,36).downsample(10)"
   ]
  },
  {
   "cell_type": "markdown",
   "id": "887617a0",
   "metadata": {},
   "source": [
    "The entropy operations *destroy* the original entropy, to prevent errors."
   ]
  },
  {
   "cell_type": "code",
   "execution_count": 50,
   "id": "fa85a3aa",
   "metadata": {},
   "outputs": [
    {
     "data": {
      "text/plain": [
       "U(1)"
      ]
     },
     "execution_count": 50,
     "metadata": {},
     "output_type": "execute_result"
    }
   ],
   "source": [
    "x = U(1,6)\n",
    "y = x.multiply(U(3,6))\n",
    "x"
   ]
  },
  {
   "cell_type": "markdown",
   "id": "1caa453c",
   "metadata": {},
   "source": [
    "# Calculating entropy for individual integers\n",
    "\n",
    "The functions `expected_rejection_sampling()`, `expected_fast_dice_roller()` and `worst_case_eec()` calculate \n",
    "the expected entropy consumption for each integer generated. For example:"
   ]
  },
  {
   "cell_type": "code",
   "execution_count": 51,
   "id": "12f8ab3c",
   "metadata": {},
   "outputs": [
    {
     "data": {
      "text/plain": [
       "(2.6666666666666665, 2.6666259765625, 1.5849625300044479)"
      ]
     },
     "execution_count": 51,
     "metadata": {},
     "output_type": "execute_result"
    }
   ],
   "source": [
    "expected_rejection_sampling(3), expected_fast_dice_roller(3), worst_case_eec(3)"
   ]
  },
  {
   "cell_type": "markdown",
   "id": "51a06534",
   "metadata": {},
   "source": [
    "Interestingly, `worst_case_convert` actually gives a entropy slightly higher for powers of 2, but this is correct."
   ]
  },
  {
   "cell_type": "code",
   "execution_count": 52,
   "id": "72a785e3",
   "metadata": {},
   "outputs": [
    {
     "data": {
      "text/plain": [
       "(2.0, 2, 2.0000000431077543)"
      ]
     },
     "execution_count": 52,
     "metadata": {},
     "output_type": "execute_result"
    }
   ],
   "source": [
    "expected_rejection_sampling(4), expected_fast_dice_roller(4), worst_case_eec(4)"
   ]
  },
  {
   "cell_type": "markdown",
   "id": "a20a0eab",
   "metadata": {},
   "source": [
    "Let's calculate the entropy efficiency generating the first 100 integers."
   ]
  },
  {
   "cell_type": "code",
   "execution_count": 53,
   "id": "db32e8b7",
   "metadata": {},
   "outputs": [
    {
     "data": {
      "image/png": "[encoded data removed]",
      "text/plain": [
       "<Figure size 640x480 with 1 Axes>"
      ]
     },
     "metadata": {},
     "output_type": "display_data"
    }
   ],
   "source": [
    "numbers = range(2,101)\n",
    "rs_efficiency = [math.log2(n)/expected_rejection_sampling(n) for n in numbers]\n",
    "fdr_efficiency = [math.log2(n)/expected_fast_dice_roller(n) for n in numbers]\n",
    "eec_efficiency = [math.log2(n)/worst_case_eec(n) for n in numbers]\n",
    "\n",
    "import matplotlib.pyplot as plt\n",
    "plt.title('Generating a uniform integer 0..n-1')\n",
    "plt.xlabel('n')\n",
    "plt.ylabel('Entropy efficiency')\n",
    "plt.plot(numbers, rs_efficiency, label='Rejection sampling')\n",
    "plt.plot(numbers, fdr_efficiency, label='Knuth-Yao')\n",
    "plt.plot(numbers, eec_efficiency, label='Efficient entropy converter')\n",
    "plt.legend()\n",
    "plt.show()"
   ]
  },
  {
   "cell_type": "markdown",
   "id": "b38c5729",
   "metadata": {},
   "source": [
    "## Calculating entropy of card shuffling\n",
    "\n",
    "Entropy of card shuffling just combines the entropy needed for a Fisher-Yates shuffling algorithm."
   ]
  },
  {
   "cell_type": "code",
   "execution_count": 54,
   "id": "32aa2a9d",
   "metadata": {},
   "outputs": [],
   "source": [
    "def expected_card_shuffling(n:int, expected) -> float:\n",
    "    output = 0\n",
    "    input = 0\n",
    "    for i in range(2,n+1):\n",
    "        output += math.log2(i)\n",
    "        input += expected(i)   \n",
    "    return output, input, output/input"
   ]
  },
  {
   "cell_type": "markdown",
   "id": "5696c48f",
   "metadata": {},
   "source": [
    "Test it on a deck of 52 cards"
   ]
  },
  {
   "cell_type": "code",
   "execution_count": 55,
   "id": "afbee4b8",
   "metadata": {},
   "outputs": [
    {
     "data": {
      "text/plain": [
       "(225.58100312370277, 355.90835089243757, 0.6338176740109078)"
      ]
     },
     "execution_count": 55,
     "metadata": {},
     "output_type": "execute_result"
    }
   ],
   "source": [
    "expected_card_shuffling(52, expected_rejection_sampling)"
   ]
  },
  {
   "cell_type": "code",
   "execution_count": 56,
   "id": "571c2dba",
   "metadata": {},
   "outputs": [
    {
     "data": {
      "text/plain": [
       "(225.58100312370277, 277.8389933995495, 0.811912684981922)"
      ]
     },
     "execution_count": 56,
     "metadata": {},
     "output_type": "execute_result"
    }
   ],
   "source": [
    "expected_card_shuffling(52, expected_fast_dice_roller)"
   ]
  },
  {
   "cell_type": "code",
   "execution_count": 57,
   "id": "339dd227",
   "metadata": {},
   "outputs": [
    {
     "data": {
      "text/plain": [
       "(225.58100312370277, 225.581020089913, 0.9999999247888398)"
      ]
     },
     "execution_count": 57,
     "metadata": {},
     "output_type": "execute_result"
    }
   ],
   "source": [
    "expected_card_shuffling(52, worst_case_eec)"
   ]
  },
  {
   "cell_type": "markdown",
   "id": "77eb4649",
   "metadata": {},
   "source": [
    "Now just draw a graph of decks size 2 to 100"
   ]
  },
  {
   "cell_type": "code",
   "execution_count": 58,
   "id": "b7c12df5",
   "metadata": {},
   "outputs": [
    {
     "data": {
      "image/png": "[encoded data removed]",
      "text/plain": [
       "<Figure size 640x480 with 1 Axes>"
      ]
     },
     "metadata": {},
     "output_type": "display_data"
    }
   ],
   "source": [
    "numbers = range(2,101)\n",
    "rs_efficiency = [expected_card_shuffling(n, expected_rejection_sampling)[2] for n in numbers]\n",
    "fdr_efficiency = [expected_card_shuffling(n, expected_fast_dice_roller)[2] for n in numbers]\n",
    "eec_efficiency = [expected_card_shuffling(n, worst_case_eec)[2] for n in numbers]\n",
    "\n",
    "plt.clf()\n",
    "plt.title('Card shuffling efficiency')\n",
    "\n",
    "plt.xlabel('Size of deck')\n",
    "plt.ylabel('Entropy efficiency')\n",
    "plt.plot(numbers, rs_efficiency, label='Rejection sampling')\n",
    "plt.plot(numbers, fdr_efficiency, label='Knuth-Yao')\n",
    "plt.plot(numbers, eec_efficiency, label='Efficient entropy converter')\n",
    "plt.legend(loc='upper right')\n",
    "plt.show()"
   ]
  },
  {
   "cell_type": "markdown",
   "id": "8fcb7746",
   "metadata": {},
   "source": [
    "## Simulations\n",
    "\n",
    "We can actually implement entropy generators based on the above algorithms to see how they perform in practice."
   ]
  },
  {
   "cell_type": "code",
   "execution_count": 59,
   "id": "47142c01",
   "metadata": {},
   "outputs": [],
   "source": [
    "bin = BinaryEntropySource()"
   ]
  },
  {
   "cell_type": "markdown",
   "id": "cd70e4a9",
   "metadata": {},
   "source": [
    "`MeasuringSource` wraps any entropy source and keeps track of how much entropy was delivered."
   ]
  },
  {
   "cell_type": "code",
   "execution_count": 60,
   "id": "a1f6bdb8",
   "metadata": {},
   "outputs": [],
   "source": [
    "measured_input = MeasuringSource(bin)"
   ]
  },
  {
   "cell_type": "code",
   "execution_count": 61,
   "id": "77590597",
   "metadata": {},
   "outputs": [],
   "source": [
    "rs = RejectionSamplingEntropySource(measured_input)\n",
    "fdr = FastDiceRollerEntropySource(measured_input)\n",
    "eec = EfficientEntropySource(measured_input)"
   ]
  },
  {
   "cell_type": "markdown",
   "id": "ccee76f5",
   "metadata": {},
   "source": [
    "Set up an entropy store based on rejection sampling and measure its outputs:"
   ]
  },
  {
   "cell_type": "code",
   "execution_count": 62,
   "id": "4f58e5ef",
   "metadata": {},
   "outputs": [
    {
     "data": {
      "text/plain": [
       "364.0"
      ]
     },
     "execution_count": 62,
     "metadata": {},
     "output_type": "execute_result"
    }
   ],
   "source": [
    "def measure_card_shuffle(input, output):\n",
    "    input.entropy = 0\n",
    "    output.entropy = 0\n",
    "    shuffle(deck(), output)\n",
    "    return input.entropy\n",
    "\n",
    "measure_card_shuffle(measured_input, MeasuringSource(rs))"
   ]
  },
  {
   "cell_type": "markdown",
   "id": "34e7b8fb",
   "metadata": {},
   "source": [
    "Note this will vary between runs."
   ]
  },
  {
   "cell_type": "code",
   "execution_count": 63,
   "id": "00cc135a",
   "metadata": {},
   "outputs": [
    {
     "data": {
      "text/plain": [
       "277.0"
      ]
     },
     "execution_count": 63,
     "metadata": {},
     "output_type": "execute_result"
    }
   ],
   "source": [
    "measure_card_shuffle(measured_input, MeasuringSource(fdr))"
   ]
  },
  {
   "cell_type": "markdown",
   "id": "8527ec30",
   "metadata": {},
   "source": [
    "Note this will vary between runs."
   ]
  },
  {
   "cell_type": "markdown",
   "id": "f566dc34",
   "metadata": {},
   "source": [
    "Finally, let's measure how much entropy the efficient entropy converter uses to shuffle a deck:"
   ]
  },
  {
   "cell_type": "code",
   "execution_count": 64,
   "id": "ca0fcd20",
   "metadata": {},
   "outputs": [
    {
     "data": {
      "text/plain": [
       "225.58100347975855"
      ]
     },
     "execution_count": 64,
     "metadata": {},
     "output_type": "execute_result"
    }
   ],
   "source": [
    "eec.store = U()\n",
    "measure_card_shuffle(measured_input, MeasuringSource(eec)) - eec.store.entropy()"
   ]
  },
  {
   "cell_type": "markdown",
   "id": "22fbf182",
   "metadata": {},
   "source": [
    "Note that this is a little better than our calculated worst-case scenario."
   ]
  }
 ],
 "metadata": {
  "kernelspec": {
   "display_name": ".venv",
   "language": "python",
   "name": "python3"
  },
  "language_info": {
   "codemirror_mode": {
    "name": "ipython",
    "version": 3
   },
   "file_extension": ".py",
   "mimetype": "text/x-python",
   "name": "python",
   "nbconvert_exporter": "python",
   "pygments_lexer": "ipython3",
   "version": "3.13.3"
  }
 },
 "nbformat": 4,
 "nbformat_minor": 5
}
