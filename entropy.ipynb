{
 "cells": [
  {
   "cell_type": "markdown",
   "id": "4fe3b42b",
   "metadata": {},
   "source": [
    "# Algorithms for efficient entropy conversion\n",
    "\n",
    "By Calum Grant, June 2025\n",
    "\n",
    "This page is to reproduce the results of the accompanying paper."
   ]
  },
  {
   "cell_type": "markdown",
   "id": "83f6f0c2",
   "metadata": {},
   "source": [
    "The code is in the accompanying [entropy.py](entropy.py) file. We'll import it as follows:"
   ]
  },
  {
   "cell_type": "code",
   "execution_count": 1,
   "id": "9cebb3d2",
   "metadata": {},
   "outputs": [],
   "source": [
    "from entropy import *"
   ]
  },
  {
   "cell_type": "markdown",
   "id": "e6684fb7",
   "metadata": {},
   "source": [
    "## Basic operations\n",
    "\n",
    "The 4 basic operations are provided by `multiply()`, `divide()`, `downsample()` and `upsample()` functions."
   ]
  },
  {
   "cell_type": "code",
   "execution_count": 2,
   "id": "d941a330",
   "metadata": {},
   "outputs": [
    {
     "data": {
      "text/plain": [
       "(25, 30)"
      ]
     },
     "execution_count": 2,
     "metadata": {},
     "output_type": "execute_result"
    }
   ],
   "source": [
    "multiply(1,6,4,5)"
   ]
  },
  {
   "cell_type": "code",
   "execution_count": 3,
   "id": "c9a42c61",
   "metadata": {},
   "outputs": [
    {
     "data": {
      "text/plain": [
       "(1, 6, 4, 5)"
      ]
     },
     "execution_count": 3,
     "metadata": {},
     "output_type": "execute_result"
    }
   ],
   "source": [
    "divide(25,30,6)"
   ]
  },
  {
   "cell_type": "code",
   "execution_count": 4,
   "id": "a5491d82",
   "metadata": {},
   "outputs": [
    {
     "data": {
      "text/plain": [
       "(7, 33, False)"
      ]
     },
     "execution_count": 4,
     "metadata": {},
     "output_type": "execute_result"
    }
   ],
   "source": [
    "downsample(10,36,3)"
   ]
  },
  {
   "cell_type": "code",
   "execution_count": 5,
   "id": "e64ea7fd",
   "metadata": {},
   "outputs": [
    {
     "data": {
      "text/plain": [
       "(10, 36)"
      ]
     },
     "execution_count": 5,
     "metadata": {},
     "output_type": "execute_result"
    }
   ],
   "source": [
    "upsample(7, 33, 36, False)"
   ]
  },
  {
   "cell_type": "markdown",
   "id": "24da6c12",
   "metadata": {},
   "source": [
    "## Distributions\n",
    "\n",
    "The `entropy` module also defines the distributions `U` and `B`. We can construct `U` objects manually as follows:"
   ]
  },
  {
   "cell_type": "code",
   "execution_count": 6,
   "id": "2c9173a3",
   "metadata": {},
   "outputs": [
    {
     "data": {
      "text/plain": [
       "U(6)"
      ]
     },
     "execution_count": 6,
     "metadata": {},
     "output_type": "execute_result"
    }
   ],
   "source": [
    "U(4,6)"
   ]
  },
  {
   "cell_type": "markdown",
   "id": "5fba80ba",
   "metadata": {},
   "source": [
    "The default `U` object has size 1, which means it has no entropy."
   ]
  },
  {
   "cell_type": "code",
   "execution_count": 7,
   "id": "63d12cf6",
   "metadata": {},
   "outputs": [
    {
     "data": {
      "text/plain": [
       "U(1)"
      ]
     },
     "execution_count": 7,
     "metadata": {},
     "output_type": "execute_result"
    }
   ],
   "source": [
    "U()"
   ]
  },
  {
   "cell_type": "markdown",
   "id": "1fc13aba",
   "metadata": {},
   "source": [
    "We can measure the stored entropy using the `entropy()` method:"
   ]
  },
  {
   "cell_type": "code",
   "execution_count": 8,
   "id": "ce82b68b",
   "metadata": {},
   "outputs": [
    {
     "data": {
      "text/plain": [
       "0.0"
      ]
     },
     "execution_count": 8,
     "metadata": {},
     "output_type": "execute_result"
    }
   ],
   "source": [
    "U().entropy()"
   ]
  },
  {
   "cell_type": "code",
   "execution_count": 9,
   "id": "045bdc04",
   "metadata": {},
   "outputs": [
    {
     "data": {
      "text/plain": [
       "2.584962500721156"
      ]
     },
     "execution_count": 9,
     "metadata": {},
     "output_type": "execute_result"
    }
   ],
   "source": [
    "U(1,6).entropy()"
   ]
  },
  {
   "cell_type": "markdown",
   "id": "703f3a88",
   "metadata": {},
   "source": [
    "Whenever you read or consume the entropy, the original entropy becomes empty (`U(1)`). This is to prevent errors reusing the same entropy."
   ]
  },
  {
   "cell_type": "code",
   "execution_count": 10,
   "id": "cb5ae0ad",
   "metadata": {},
   "outputs": [
    {
     "data": {
      "text/plain": [
       "1"
      ]
     },
     "execution_count": 10,
     "metadata": {},
     "output_type": "execute_result"
    }
   ],
   "source": [
    "x = U(1,6)\n",
    "x.entropy()\n",
    "x.read()"
   ]
  },
  {
   "cell_type": "markdown",
   "id": "1d885efe",
   "metadata": {},
   "source": [
    "Calling `read()` turned `x` into a pumpkin!"
   ]
  },
  {
   "cell_type": "code",
   "execution_count": 11,
   "id": "ff5555b7",
   "metadata": {},
   "outputs": [
    {
     "data": {
      "text/plain": [
       "U(1)"
      ]
     },
     "execution_count": 11,
     "metadata": {},
     "output_type": "execute_result"
    }
   ],
   "source": [
    "x\n"
   ]
  },
  {
   "cell_type": "code",
   "execution_count": 12,
   "id": "4ad9a833",
   "metadata": {},
   "outputs": [
    {
     "data": {
      "text/plain": [
       "0.0"
      ]
     },
     "execution_count": 12,
     "metadata": {},
     "output_type": "execute_result"
    }
   ],
   "source": [
    "x.entropy()"
   ]
  },
  {
   "cell_type": "markdown",
   "id": "726b437f",
   "metadata": {},
   "source": [
    "The basic entropy operations are implemented on `U`:"
   ]
  },
  {
   "cell_type": "code",
   "execution_count": 13,
   "id": "b1a27c15",
   "metadata": {},
   "outputs": [
    {
     "data": {
      "text/plain": [
       "U(36)"
      ]
     },
     "execution_count": 13,
     "metadata": {},
     "output_type": "execute_result"
    }
   ],
   "source": [
    "U(1,6).multiply(U(2,6))"
   ]
  },
  {
   "cell_type": "code",
   "execution_count": 14,
   "id": "b5a27c43",
   "metadata": {},
   "outputs": [
    {
     "data": {
      "text/plain": [
       "(U(26), B(10/36))"
      ]
     },
     "execution_count": 14,
     "metadata": {},
     "output_type": "execute_result"
    }
   ],
   "source": [
    "U(10,36).downsample(10)"
   ]
  },
  {
   "cell_type": "code",
   "execution_count": 15,
   "id": "65a62ae5",
   "metadata": {},
   "outputs": [
    {
     "data": {
      "text/plain": [
       "(U(10), B(10/36))"
      ]
     },
     "execution_count": 15,
     "metadata": {},
     "output_type": "execute_result"
    }
   ],
   "source": [
    "U(9,36).downsample(10)"
   ]
  },
  {
   "cell_type": "markdown",
   "id": "887617a0",
   "metadata": {},
   "source": [
    "The entropy operations *destroy* the original entropy, to prevent errors."
   ]
  },
  {
   "cell_type": "code",
   "execution_count": 16,
   "id": "fa85a3aa",
   "metadata": {},
   "outputs": [
    {
     "data": {
      "text/plain": [
       "U(1)"
      ]
     },
     "execution_count": 16,
     "metadata": {},
     "output_type": "execute_result"
    }
   ],
   "source": [
    "x = U(1,6)\n",
    "y = x.multiply(U(3,6))\n",
    "x"
   ]
  },
  {
   "cell_type": "markdown",
   "id": "1caa453c",
   "metadata": {},
   "source": [
    "# Calculating entropy for individual integers\n",
    "\n",
    "The functions `expected_rejection_sampling()`, `expected_fast_dice_roller()` and `expected_convert()` calculate \n",
    "the expected entropy consumption for each integer generated. For example:"
   ]
  },
  {
   "cell_type": "code",
   "execution_count": 17,
   "id": "12f8ab3c",
   "metadata": {},
   "outputs": [
    {
     "data": {
      "text/plain": [
       "(2.6666666666666665, 2.6666259765625, 1.5849625300044479)"
      ]
     },
     "execution_count": 17,
     "metadata": {},
     "output_type": "execute_result"
    }
   ],
   "source": [
    "expected_rejection_sampling(3), expected_fast_dice_roller(3), worst_case_convert(3)"
   ]
  },
  {
   "cell_type": "markdown",
   "id": "51a06534",
   "metadata": {},
   "source": [
    "Interestingly, `worst_case_convert` actually gives a entropy slightly higher for powers of 2, but this is correct."
   ]
  },
  {
   "cell_type": "code",
   "execution_count": 18,
   "id": "72a785e3",
   "metadata": {},
   "outputs": [
    {
     "data": {
      "text/plain": [
       "(2.0, 2, 2.0000000431077543)"
      ]
     },
     "execution_count": 18,
     "metadata": {},
     "output_type": "execute_result"
    }
   ],
   "source": [
    "expected_rejection_sampling(4), expected_fast_dice_roller(4), worst_case_convert(4)"
   ]
  },
  {
   "cell_type": "markdown",
   "id": "a20a0eab",
   "metadata": {},
   "source": [
    "Let's calculate the entropy efficiency generating the first 52 integers."
   ]
  },
  {
   "cell_type": "code",
   "execution_count": 34,
   "id": "db32e8b7",
   "metadata": {},
   "outputs": [
    {
     "data": {
      "image/png": "[encoded data removed]",
      "text/plain": [
       "<Figure size 640x480 with 1 Axes>"
      ]
     },
     "metadata": {},
     "output_type": "display_data"
    }
   ],
   "source": [
    "numbers = range(2,53)\n",
    "rs_efficiency = [math.log2(n)/expected_rejection_sampling(n) for n in numbers]\n",
    "fdr_efficiency = [math.log2(n)/expected_fast_dice_roller(n) for n in numbers]\n",
    "eec_efficiency = [math.log2(n)/worst_case_convert(n) for n in numbers]\n",
    "\n",
    "import matplotlib.pyplot as plt\n",
    "plt.title('Individual integer efficiency')\n",
    "plt.xlabel('n')\n",
    "plt.ylabel('Entropy efficiency')\n",
    "plt.plot(numbers, rs_efficiency, label='Rejection sampling')\n",
    "plt.plot(numbers, fdr_efficiency, label='Knuth-Yao')\n",
    "plt.plot(numbers, eec_efficiency, label='Efficient entropy converter')\n",
    "plt.legend()\n",
    "plt.show()"
   ]
  },
  {
   "cell_type": "markdown",
   "id": "b38c5729",
   "metadata": {},
   "source": [
    "## Calculating entropy of card shuffling\n"
   ]
  },
  {
   "cell_type": "markdown",
   "id": "8fcb7746",
   "metadata": {},
   "source": [
    "## Simulating card shuffling\n",
    "\n",
    "\n",
    "### Rejection sampling\n",
    "\n",
    "We'll create a binary entropy store which reads hardware entropy one bit at a time, returning `U(2)` each time"
   ]
  },
  {
   "cell_type": "code",
   "execution_count": null,
   "id": "47142c01",
   "metadata": {},
   "outputs": [
    {
     "data": {
      "text/plain": [
       "U(2)"
      ]
     },
     "execution_count": 34,
     "metadata": {},
     "output_type": "execute_result"
    }
   ],
   "source": [
    "bin = BinaryEntropySource()\n",
    "bin.get(2)"
   ]
  },
  {
   "cell_type": "markdown",
   "id": "cd70e4a9",
   "metadata": {},
   "source": [
    "`MeasuringStore` wraps any store and keeps track of how much entropy was delivered."
   ]
  },
  {
   "cell_type": "code",
   "execution_count": null,
   "id": "a1f6bdb8",
   "metadata": {},
   "outputs": [],
   "source": [
    "measured_input = MeasuringStore(bin)"
   ]
  },
  {
   "cell_type": "code",
   "execution_count": null,
   "id": "77590597",
   "metadata": {},
   "outputs": [
    {
     "data": {
      "text/plain": [
       "2.0"
      ]
     },
     "execution_count": 36,
     "metadata": {},
     "output_type": "execute_result"
    }
   ],
   "source": [
    "measured_input.reset()\n",
    "measured_input.get(2)\n",
    "measured_input.get(2)\n",
    "measured_input.entropy"
   ]
  },
  {
   "cell_type": "markdown",
   "id": "ccee76f5",
   "metadata": {},
   "source": [
    "Set up an entropy store based on rejection sampling and measure its outputs:"
   ]
  },
  {
   "cell_type": "code",
   "execution_count": null,
   "id": "4f58e5ef",
   "metadata": {},
   "outputs": [],
   "source": [
    "rs = RejectionSamplingEntropySource(measured_input)\n",
    "measured_output = MeasuringStore(rs)"
   ]
  },
  {
   "cell_type": "markdown",
   "id": "9e78c6fc",
   "metadata": {},
   "source": [
    "Perform the shuffling and gather the data:"
   ]
  },
  {
   "cell_type": "code",
   "execution_count": null,
   "id": "41a8396f",
   "metadata": {},
   "outputs": [],
   "source": [
    "measured_input.reset()\n",
    "measured_output.reset()\n",
    "rs.expected_entropy_in = 0\n",
    "shuffle(deck(), measured_output) "
   ]
  },
  {
   "cell_type": "markdown",
   "id": "14cbf1bd",
   "metadata": {},
   "source": [
    "Let's see how much entropy was (a) actually output, (b) input, (c) expected input"
   ]
  },
  {
   "cell_type": "code",
   "execution_count": null,
   "id": "c2cf9eab",
   "metadata": {},
   "outputs": [
    {
     "data": {
      "text/plain": [
       "(225.58100312370277, 365.0, 355.90835089243757)"
      ]
     },
     "execution_count": 39,
     "metadata": {},
     "output_type": "execute_result"
    }
   ],
   "source": [
    "measured_output.entropy, measured_input.entropy, rs.expected_entropy_in"
   ]
  },
  {
   "cell_type": "markdown",
   "id": "41343eb9",
   "metadata": {},
   "source": [
    "Actually, we are more interested in the *theoretical* expected input entropy, which we can calculate precisely rather than running lots of trials. The measured output entropy is always the same.\n",
    "\n",
    "The theoretical efficiency of Von Neumann rejection sampling is given by"
   ]
  },
  {
   "cell_type": "code",
   "execution_count": null,
   "id": "fb55d25d",
   "metadata": {},
   "outputs": [
    {
     "data": {
      "text/plain": [
       "0.6338176740109078"
      ]
     },
     "execution_count": 40,
     "metadata": {},
     "output_type": "execute_result"
    }
   ],
   "source": [
    "measured_output.entropy / rs.expected_entropy_in"
   ]
  },
  {
   "cell_type": "markdown",
   "id": "d7db0a27",
   "metadata": {},
   "source": [
    "### Fast Dice Roller\n",
    "\n",
    "The FDR should be the same as Knuth-Yao, but FDR is much simpler to implement.\n",
    "\n",
    "Let's repeat the measurement for FDR.\n",
    "\n",
    "Firstly, how can we calculate the expected entropy consumption (and therefore efficiency) for a single random integer. Of course, this depends on the number generated."
   ]
  },
  {
   "cell_type": "code",
   "execution_count": null,
   "id": "01e2f82c",
   "metadata": {},
   "outputs": [
    {
     "data": {
      "text/plain": [
       "(4.0, 3.6666259765625, 2.584962570851532)"
      ]
     },
     "execution_count": 41,
     "metadata": {},
     "output_type": "execute_result"
    }
   ],
   "source": [
    "expected_rejection_sampling(6), expected_fast_dice_roller(6), worst_case_convert(6)"
   ]
  },
  {
   "cell_type": "markdown",
   "id": "8312286d",
   "metadata": {},
   "source": [
    "Interestingly, EEC does worse on powers of 2"
   ]
  },
  {
   "cell_type": "code",
   "execution_count": null,
   "id": "f72a8f75",
   "metadata": {},
   "outputs": [
    {
     "data": {
      "text/plain": [
       "(3.0, 3, 3.0000000966002145)"
      ]
     },
     "execution_count": 42,
     "metadata": {},
     "output_type": "execute_result"
    }
   ],
   "source": [
    "expected_rejection_sampling(8), expected_fast_dice_roller(8), worst_case_convert(8)"
   ]
  }
 ],
 "metadata": {
  "kernelspec": {
   "display_name": ".venv",
   "language": "python",
   "name": "python3"
  },
  "language_info": {
   "codemirror_mode": {
    "name": "ipython",
    "version": 3
   },
   "file_extension": ".py",
   "mimetype": "text/x-python",
   "name": "python",
   "nbconvert_exporter": "python",
   "pygments_lexer": "ipython3",
   "version": "3.13.3"
  }
 },
 "nbformat": 4,
 "nbformat_minor": 5
}
