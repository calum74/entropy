{
 "cells": [
  {
   "cell_type": "markdown",
   "id": "4fe3b42b",
   "metadata": {},
   "source": [
    "# Algorithms for efficient entropy conversion\n",
    "\n",
    "By Calum Grant, June 2025\n",
    "\n",
    "This page is to reproduce the results of the accompanying paper."
   ]
  },
  {
   "cell_type": "markdown",
   "id": "83f6f0c2",
   "metadata": {},
   "source": [
    "The code is in the accompanying [entropy.py](entropy.py) file. We'll import it as follows:"
   ]
  },
  {
   "cell_type": "code",
   "execution_count": 1,
   "id": "9cebb3d2",
   "metadata": {},
   "outputs": [],
   "source": [
    "from entropy import *"
   ]
  },
  {
   "cell_type": "markdown",
   "id": "e6684fb7",
   "metadata": {},
   "source": [
    "## Basic entropy operations\n",
    "\n",
    "The basic operations are provided by `combine()`, `divide()`, `resample()` functions."
   ]
  },
  {
   "cell_type": "code",
   "execution_count": 2,
   "id": "c017d6f8",
   "metadata": {},
   "outputs": [],
   "source": [
    "def combine(U_n, n, U_m, m):\n",
    "    return U_n * m + U_m, n*m\n",
    "\n",
    "def divide(U_nm, nm, n):\n",
    "    U_m, U_n = divmod(U_nm, n)\n",
    "    m = nm // n\n",
    "    return U_m, m, U_n\n",
    "\n",
    "def resample(U_n, n, m):\n",
    "    if U_n < n:\n",
    "        B = True\n",
    "        x = m\n",
    "        U_x = U_n\n",
    "    else:\n",
    "        B = False\n",
    "        x = m-n\n",
    "        U_x = U_n - m\n",
    "    return U_x, x, B"
   ]
  },
  {
   "cell_type": "markdown",
   "id": "ff6ccc5c",
   "metadata": {},
   "source": [
    "We'll also create a `fetch()` function that returns one bit of entropy, and now we have `generate_uniform()` to create perfectly uniform random variables of the given size! In this example, we're just using the built-in `random` module but we could fetch hardware entropy if we wanted to."
   ]
  },
  {
   "cell_type": "code",
   "execution_count": 3,
   "id": "bc818283",
   "metadata": {},
   "outputs": [],
   "source": [
    "import random\n",
    "U_s = 0\n",
    "s = 1\n",
    "bits_fetched = 0\n",
    "N = 1<<31\n",
    "\n",
    "def fetch():\n",
    "    global bits_fetched\n",
    "    bits_fetched += 1\n",
    "    return random.randint(0,1)\n",
    "\n",
    "def generate_uniform(U_s, s, n):\n",
    "    while True:\n",
    "        while s < N:\n",
    "            U_s, s = combine(U_s, s, fetch(), 2)\n",
    "        U_s, s, b = downsample(U_s, s, s % n)\n",
    "        if not b:\n",
    "            U_s, s, U_n = divide(U_s, s, n) \n",
    "            return U_s, s, U_n"
   ]
  },
  {
   "cell_type": "markdown",
   "id": "5d3fdcb4",
   "metadata": {},
   "source": [
    "Let's just test it"
   ]
  },
  {
   "cell_type": "code",
   "execution_count": 4,
   "id": "e5279bd4",
   "metadata": {},
   "outputs": [
    {
     "data": {
      "text/plain": [
       "0"
      ]
     },
     "execution_count": 4,
     "metadata": {},
     "output_type": "execute_result"
    }
   ],
   "source": [
    "U_s, s, x = generate_uniform(U_s, s, 6)\n",
    "x"
   ]
  },
  {
   "cell_type": "markdown",
   "id": "98edf3b0",
   "metadata": {},
   "source": [
    "Let's test it on a larger sample. It's not the most rigourous test, but we would expect around 100 in each bin. Remember we've proven the correctness of this algorithm, so it's just to make sure we haven't messed up the implementation somewhere."
   ]
  },
  {
   "cell_type": "code",
   "execution_count": 5,
   "id": "20ca5944",
   "metadata": {},
   "outputs": [
    {
     "data": {
      "text/plain": [
       "[97, 108, 99, 100, 99, 97]"
      ]
     },
     "execution_count": 5,
     "metadata": {},
     "output_type": "execute_result"
    }
   ],
   "source": [
    "counts = [0,0,0,0,0,0]\n",
    "for i in range (0,600):\n",
    "    U_s, s, x = generate_uniform(U_s, s, 6)\n",
    "    counts[x] += 1\n",
    "counts"
   ]
  },
  {
   "cell_type": "markdown",
   "id": "24da6c12",
   "metadata": {},
   "source": [
    "## Distributions\n",
    "\n",
    "The `entropy` module also defines the distributions `U` and `B`. We can construct `U` objects manually as follows:"
   ]
  },
  {
   "cell_type": "code",
   "execution_count": 6,
   "id": "2c9173a3",
   "metadata": {},
   "outputs": [
    {
     "data": {
      "text/plain": [
       "U(6)"
      ]
     },
     "execution_count": 6,
     "metadata": {},
     "output_type": "execute_result"
    }
   ],
   "source": [
    "U(4,6)"
   ]
  },
  {
   "cell_type": "markdown",
   "id": "5fba80ba",
   "metadata": {},
   "source": [
    "The default `U` object has size 1, which means it has no entropy."
   ]
  },
  {
   "cell_type": "code",
   "execution_count": 7,
   "id": "63d12cf6",
   "metadata": {},
   "outputs": [
    {
     "data": {
      "text/plain": [
       "U(1)"
      ]
     },
     "execution_count": 7,
     "metadata": {},
     "output_type": "execute_result"
    }
   ],
   "source": [
    "U()"
   ]
  },
  {
   "cell_type": "markdown",
   "id": "1fc13aba",
   "metadata": {},
   "source": [
    "We can measure the stored entropy using the `entropy()` method:"
   ]
  },
  {
   "cell_type": "code",
   "execution_count": 8,
   "id": "ce82b68b",
   "metadata": {},
   "outputs": [
    {
     "data": {
      "text/plain": [
       "0.0"
      ]
     },
     "execution_count": 8,
     "metadata": {},
     "output_type": "execute_result"
    }
   ],
   "source": [
    "U().entropy()"
   ]
  },
  {
   "cell_type": "code",
   "execution_count": 9,
   "id": "045bdc04",
   "metadata": {},
   "outputs": [
    {
     "data": {
      "text/plain": [
       "2.584962500721156"
      ]
     },
     "execution_count": 9,
     "metadata": {},
     "output_type": "execute_result"
    }
   ],
   "source": [
    "U(1,6).entropy()"
   ]
  },
  {
   "cell_type": "markdown",
   "id": "703f3a88",
   "metadata": {},
   "source": [
    "Whenever you read or consume the entropy, the original entropy becomes empty (`U(1)`). This is to prevent errors reusing the same entropy."
   ]
  },
  {
   "cell_type": "code",
   "execution_count": 10,
   "id": "cb5ae0ad",
   "metadata": {},
   "outputs": [
    {
     "data": {
      "text/plain": [
       "1"
      ]
     },
     "execution_count": 10,
     "metadata": {},
     "output_type": "execute_result"
    }
   ],
   "source": [
    "x = U(1,6)\n",
    "x.entropy()\n",
    "x.read()"
   ]
  },
  {
   "cell_type": "markdown",
   "id": "1d885efe",
   "metadata": {},
   "source": [
    "Calling `read()` turned `x` into a pumpkin!"
   ]
  },
  {
   "cell_type": "code",
   "execution_count": 11,
   "id": "ff5555b7",
   "metadata": {},
   "outputs": [
    {
     "data": {
      "text/plain": [
       "U(1)"
      ]
     },
     "execution_count": 11,
     "metadata": {},
     "output_type": "execute_result"
    }
   ],
   "source": [
    "x\n"
   ]
  },
  {
   "cell_type": "code",
   "execution_count": 12,
   "id": "4ad9a833",
   "metadata": {},
   "outputs": [
    {
     "data": {
      "text/plain": [
       "0.0"
      ]
     },
     "execution_count": 12,
     "metadata": {},
     "output_type": "execute_result"
    }
   ],
   "source": [
    "x.entropy()"
   ]
  },
  {
   "cell_type": "markdown",
   "id": "726b437f",
   "metadata": {},
   "source": [
    "The basic entropy operations are implemented on `U`:"
   ]
  },
  {
   "cell_type": "code",
   "execution_count": 13,
   "id": "b1a27c15",
   "metadata": {},
   "outputs": [
    {
     "data": {
      "text/plain": [
       "U(36)"
      ]
     },
     "execution_count": 13,
     "metadata": {},
     "output_type": "execute_result"
    }
   ],
   "source": [
    "U(1,6).combine(U(2,6))"
   ]
  },
  {
   "cell_type": "code",
   "execution_count": 14,
   "id": "b5a27c43",
   "metadata": {},
   "outputs": [
    {
     "data": {
      "text/plain": [
       "(U(26), B(10/36))"
      ]
     },
     "execution_count": 14,
     "metadata": {},
     "output_type": "execute_result"
    }
   ],
   "source": [
    "U(10,36).downsample(10)"
   ]
  },
  {
   "cell_type": "code",
   "execution_count": 15,
   "id": "65a62ae5",
   "metadata": {},
   "outputs": [
    {
     "data": {
      "text/plain": [
       "(U(10), B(10/36))"
      ]
     },
     "execution_count": 15,
     "metadata": {},
     "output_type": "execute_result"
    }
   ],
   "source": [
    "U(9,36).downsample(10)"
   ]
  },
  {
   "cell_type": "markdown",
   "id": "887617a0",
   "metadata": {},
   "source": [
    "The entropy operations *destroy* the original entropy, to prevent errors."
   ]
  },
  {
   "cell_type": "code",
   "execution_count": 16,
   "id": "fa85a3aa",
   "metadata": {},
   "outputs": [
    {
     "data": {
      "text/plain": [
       "U(1)"
      ]
     },
     "execution_count": 16,
     "metadata": {},
     "output_type": "execute_result"
    }
   ],
   "source": [
    "x = U(1,6)\n",
    "y = x.combine(U(3,6))\n",
    "x"
   ]
  },
  {
   "cell_type": "markdown",
   "id": "1caa453c",
   "metadata": {},
   "source": [
    "# Calculating entropy for individual integers\n",
    "\n",
    "The functions `expected_rejection_sampling()`, `expected_fast_dice_roller()` and `worst_case_eec()` calculate \n",
    "the expected entropy consumption for each integer generated. For example:"
   ]
  },
  {
   "cell_type": "code",
   "execution_count": 17,
   "id": "12f8ab3c",
   "metadata": {},
   "outputs": [
    {
     "data": {
      "text/plain": [
       "(2.6666666666666665, 2.6666259765625, 1.5849625300044479)"
      ]
     },
     "execution_count": 17,
     "metadata": {},
     "output_type": "execute_result"
    }
   ],
   "source": [
    "expected_rejection_sampling(3), expected_fast_dice_roller(3), worst_case_eec(3)"
   ]
  },
  {
   "cell_type": "code",
   "execution_count": 18,
   "id": "edd21e36",
   "metadata": {},
   "outputs": [
    {
     "data": {
      "text/plain": [
       "0.999999972869868"
      ]
     },
     "execution_count": 18,
     "metadata": {},
     "output_type": "execute_result"
    }
   ],
   "source": [
    "math.log2(6)/worst_case_eec(6)"
   ]
  },
  {
   "cell_type": "markdown",
   "id": "51a06534",
   "metadata": {},
   "source": [
    "Interestingly, `worst_case_eec` actually gives a entropy worse higher for powers of 2, but this is correct."
   ]
  },
  {
   "cell_type": "code",
   "execution_count": 19,
   "id": "72a785e3",
   "metadata": {},
   "outputs": [
    {
     "data": {
      "text/plain": [
       "(2.0, 2, 2.0000000431077543)"
      ]
     },
     "execution_count": 19,
     "metadata": {},
     "output_type": "execute_result"
    }
   ],
   "source": [
    "expected_rejection_sampling(4), expected_fast_dice_roller(4), worst_case_eec(4)"
   ]
  },
  {
   "cell_type": "markdown",
   "id": "a20a0eab",
   "metadata": {},
   "source": [
    "Let's calculate the entropy efficiency generating the first 100 integers."
   ]
  },
  {
   "cell_type": "code",
   "execution_count": 20,
   "id": "db32e8b7",
   "metadata": {},
   "outputs": [
    {
     "data": {
      "image/png": "[encoded data removed]",
      "text/plain": [
       "<Figure size 640x480 with 1 Axes>"
      ]
     },
     "metadata": {},
     "output_type": "display_data"
    }
   ],
   "source": [
    "numbers = range(2,101)\n",
    "rs_efficiency = [math.log2(n)/expected_rejection_sampling(n) for n in numbers]\n",
    "fdr_efficiency = [math.log2(n)/expected_fast_dice_roller(n) for n in numbers]\n",
    "eec_efficiency = [math.log2(n)/worst_case_eec(n) for n in numbers]\n",
    "\n",
    "import matplotlib.pyplot as plt\n",
    "plt.title('Generating a uniform integer 0..n-1')\n",
    "plt.xlabel('n')\n",
    "plt.ylabel('Entropy efficiency')\n",
    "plt.plot(numbers, rs_efficiency, label='Rejection sampling')\n",
    "plt.plot(numbers, fdr_efficiency, label='Knuth-Yao')\n",
    "plt.plot(numbers, eec_efficiency, label='Entropy store')\n",
    "plt.legend()\n",
    "plt.savefig('uniform_efficiency.png')\n",
    "plt.show()"
   ]
  },
  {
   "cell_type": "code",
   "execution_count": 21,
   "id": "38a69129",
   "metadata": {},
   "outputs": [
    {
     "data": {
      "text/plain": [
       "2.584962500721156"
      ]
     },
     "execution_count": 21,
     "metadata": {},
     "output_type": "execute_result"
    }
   ],
   "source": [
    "math.log2(6)"
   ]
  },
  {
   "cell_type": "code",
   "execution_count": 22,
   "id": "ba7390c6",
   "metadata": {},
   "outputs": [
    {
     "data": {
      "text/plain": [
       "3.6666259765625"
      ]
     },
     "execution_count": 22,
     "metadata": {},
     "output_type": "execute_result"
    }
   ],
   "source": [
    "expected_fast_dice_roller(6)"
   ]
  },
  {
   "cell_type": "markdown",
   "id": "b38c5729",
   "metadata": {},
   "source": [
    "## Calculating entropy of card shuffling\n",
    "\n",
    "Entropy of card shuffling just sums the entropy needed for a Fisher-Yates shuffling algorithm."
   ]
  },
  {
   "cell_type": "code",
   "execution_count": 23,
   "id": "32aa2a9d",
   "metadata": {},
   "outputs": [],
   "source": [
    "def expected_card_shuffling(n:int, expected) -> float:\n",
    "    output = 0\n",
    "    input = 0\n",
    "    for i in range(2,n+1):\n",
    "        output += math.log2(i)\n",
    "        input += expected(i)   \n",
    "    return output, input, output/input"
   ]
  },
  {
   "cell_type": "markdown",
   "id": "5696c48f",
   "metadata": {},
   "source": [
    "Test it on a deck of 52 cards"
   ]
  },
  {
   "cell_type": "code",
   "execution_count": 24,
   "id": "afbee4b8",
   "metadata": {},
   "outputs": [
    {
     "data": {
      "text/plain": [
       "(225.58100312370277, 355.90835089243757, 0.6338176740109078)"
      ]
     },
     "execution_count": 24,
     "metadata": {},
     "output_type": "execute_result"
    }
   ],
   "source": [
    "expected_card_shuffling(52, expected_rejection_sampling)"
   ]
  },
  {
   "cell_type": "code",
   "execution_count": 25,
   "id": "571c2dba",
   "metadata": {},
   "outputs": [
    {
     "data": {
      "text/plain": [
       "(225.58100312370277, 277.8389933995495, 0.811912684981922)"
      ]
     },
     "execution_count": 25,
     "metadata": {},
     "output_type": "execute_result"
    }
   ],
   "source": [
    "expected_card_shuffling(52, expected_fast_dice_roller)"
   ]
  },
  {
   "cell_type": "code",
   "execution_count": 26,
   "id": "339dd227",
   "metadata": {},
   "outputs": [
    {
     "data": {
      "text/plain": [
       "(225.58100312370277, 225.581020089913, 0.9999999247888398)"
      ]
     },
     "execution_count": 26,
     "metadata": {},
     "output_type": "execute_result"
    }
   ],
   "source": [
    "expected_card_shuffling(52, worst_case_eec)"
   ]
  },
  {
   "cell_type": "markdown",
   "id": "77eb4649",
   "metadata": {},
   "source": [
    "Now just draw a graph of decks size 2 to 100"
   ]
  },
  {
   "cell_type": "code",
   "execution_count": 27,
   "id": "b7c12df5",
   "metadata": {},
   "outputs": [
    {
     "data": {
      "image/png": "[encoded data removed]",
      "text/plain": [
       "<Figure size 640x480 with 1 Axes>"
      ]
     },
     "metadata": {},
     "output_type": "display_data"
    }
   ],
   "source": [
    "numbers = range(2,101)\n",
    "rs_efficiency = [expected_card_shuffling(n, expected_rejection_sampling)[2] for n in numbers]\n",
    "fdr_efficiency = [expected_card_shuffling(n, expected_fast_dice_roller)[2] for n in numbers]\n",
    "eec_efficiency = [expected_card_shuffling(n, worst_case_eec)[2] for n in numbers]\n",
    "\n",
    "plt.clf()\n",
    "plt.title('Fisher-Yates card shuffling efficiency')\n",
    "\n",
    "plt.xlabel('Size of deck')\n",
    "plt.ylabel('Entropy efficiency')\n",
    "plt.plot(numbers, rs_efficiency, label='Rejection sampling')\n",
    "plt.plot(numbers, fdr_efficiency, label='Knuth-Yao')\n",
    "plt.plot(numbers, eec_efficiency, label='Entropy store')\n",
    "plt.legend(loc='upper right')\n",
    "plt.savefig('shuffling_efficiency.png')\n",
    "plt.show()"
   ]
  },
  {
   "cell_type": "markdown",
   "id": "64b63e86",
   "metadata": {},
   "source": [
    "Let's look at the lost entropy now, using a log-log scale. (TODO)"
   ]
  },
  {
   "cell_type": "markdown",
   "id": "8fcb7746",
   "metadata": {},
   "source": [
    "## Simulations\n",
    "\n",
    "We can implement entropy generators based on the above algorithms to see how they perform in practice. This is a good way to check the implementation for mistakes."
   ]
  },
  {
   "cell_type": "code",
   "execution_count": 28,
   "id": "47142c01",
   "metadata": {},
   "outputs": [],
   "source": [
    "bin = BinaryEntropySource()"
   ]
  },
  {
   "cell_type": "markdown",
   "id": "cd70e4a9",
   "metadata": {},
   "source": [
    "`MeasuringSource` wraps any entropy source and keeps track of how much entropy was delivered."
   ]
  },
  {
   "cell_type": "code",
   "execution_count": 29,
   "id": "a1f6bdb8",
   "metadata": {},
   "outputs": [],
   "source": [
    "measured_input = MeasuringSource(bin)"
   ]
  },
  {
   "cell_type": "code",
   "execution_count": 30,
   "id": "77590597",
   "metadata": {},
   "outputs": [],
   "source": [
    "rs = RejectionSamplingEntropySource(measured_input)\n",
    "fdr = FastDiceRollerEntropySource(measured_input)\n",
    "eec = EfficientEntropySource(measured_input)"
   ]
  },
  {
   "cell_type": "markdown",
   "id": "ccee76f5",
   "metadata": {},
   "source": [
    "Set up an entropy store based on rejection sampling and measure its outputs:"
   ]
  },
  {
   "cell_type": "code",
   "execution_count": 31,
   "id": "4f58e5ef",
   "metadata": {},
   "outputs": [
    {
     "data": {
      "text/plain": [
       "342.0"
      ]
     },
     "execution_count": 31,
     "metadata": {},
     "output_type": "execute_result"
    }
   ],
   "source": [
    "def measure_card_shuffle(input, output):\n",
    "    input.entropy = 0\n",
    "    output.entropy = 0\n",
    "    shuffle(deck(), output)\n",
    "    return input.entropy\n",
    "\n",
    "measure_card_shuffle(measured_input, MeasuringSource(rs))"
   ]
  },
  {
   "cell_type": "markdown",
   "id": "34e7b8fb",
   "metadata": {},
   "source": [
    "Note this will vary between runs."
   ]
  },
  {
   "cell_type": "code",
   "execution_count": 32,
   "id": "00cc135a",
   "metadata": {},
   "outputs": [
    {
     "data": {
      "text/plain": [
       "293.0"
      ]
     },
     "execution_count": 32,
     "metadata": {},
     "output_type": "execute_result"
    }
   ],
   "source": [
    "measure_card_shuffle(measured_input, MeasuringSource(fdr))"
   ]
  },
  {
   "cell_type": "markdown",
   "id": "8527ec30",
   "metadata": {},
   "source": [
    "Note this will vary between runs."
   ]
  },
  {
   "cell_type": "markdown",
   "id": "f566dc34",
   "metadata": {},
   "source": [
    "Let's measure how much entropy the efficient entropy converter uses to shuffle a deck:"
   ]
  },
  {
   "cell_type": "code",
   "execution_count": 33,
   "id": "ca0fcd20",
   "metadata": {},
   "outputs": [
    {
     "data": {
      "text/plain": [
       "225.58100347975855"
      ]
     },
     "execution_count": 33,
     "metadata": {},
     "output_type": "execute_result"
    }
   ],
   "source": [
    "eec.store = U()\n",
    "measure_card_shuffle(measured_input, MeasuringSource(eec)) - eec.store.entropy()"
   ]
  },
  {
   "cell_type": "markdown",
   "id": "22fbf182",
   "metadata": {},
   "source": [
    "Note that this is a little better than our calculated worst-case scenario, and a little worse than the theoretical limit of $\\log_252!$."
   ]
  },
  {
   "cell_type": "markdown",
   "id": "4fb5f2db",
   "metadata": {},
   "source": [
    "Let's just see the `shuffle()` function in action:"
   ]
  },
  {
   "cell_type": "code",
   "execution_count": 34,
   "id": "c5e26ac5",
   "metadata": {},
   "outputs": [
    {
     "data": {
      "text/plain": [
       "'NPlsLhZpEGeCYqrboVnWySHiUMtfaxjdzXABIwugJDKQmcTFvkRO'"
      ]
     },
     "execution_count": 34,
     "metadata": {},
     "output_type": "execute_result"
    }
   ],
   "source": [
    "src = EfficientEntropySource(bin)\n",
    "d = deck()\n",
    "shuffle(d, src)\n",
    "''.join(d)"
   ]
  },
  {
   "cell_type": "markdown",
   "id": "a52b93a9",
   "metadata": {},
   "source": [
    "# Calculating entropy loss"
   ]
  },
  {
   "cell_type": "code",
   "execution_count": 35,
   "id": "43da401d",
   "metadata": {},
   "outputs": [],
   "source": [
    "def H_loss(p:float) -> float:\n",
    "    return -(p/(1-p)) * math.log2(p) - math.log2(1-p)\n",
    "\n",
    "def minefficiency(n, N) -> float:\n",
    "    return math.log2(n) / (math.log2(n) + H_loss((n-1)/N))"
   ]
  },
  {
   "cell_type": "code",
   "execution_count": 36,
   "id": "95781f14",
   "metadata": {},
   "outputs": [
    {
     "data": {
      "text/plain": [
       "7.013037571323212e-08"
      ]
     },
     "execution_count": 36,
     "metadata": {},
     "output_type": "execute_result"
    }
   ],
   "source": [
    "H_loss((6-1)/(2**31))"
   ]
  },
  {
   "cell_type": "code",
   "execution_count": 37,
   "id": "0f8b21f1",
   "metadata": {},
   "outputs": [
    {
     "data": {
      "text/plain": [
       "0.999999972869868"
      ]
     },
     "execution_count": 37,
     "metadata": {},
     "output_type": "execute_result"
    }
   ],
   "source": [
    "minefficiency(6, 2**31)"
   ]
  },
  {
   "cell_type": "markdown",
   "id": "70d51e85",
   "metadata": {},
   "source": [
    "# Generating arbitrary distributions"
   ]
  },
  {
   "cell_type": "markdown",
   "id": "4ae9e6c9",
   "metadata": {},
   "source": [
    "The `make_distribution` function creates two additional lookup tables:\n",
    "\n",
    "- a map from a uniform random number to the output number\n",
    "- a map from the uniform random number to the first number in the range\n",
    "\n",
    "The second table is needed when we recover a uniform distribution that must be recombined into the entropy store."
   ]
  },
  {
   "cell_type": "code",
   "execution_count": 38,
   "id": "0e018680",
   "metadata": {},
   "outputs": [
    {
     "name": "stdout",
     "output_type": "stream",
     "text": [
      "Counts [8, 22, 970]\n",
      "Bits fetched= 223\n"
     ]
    }
   ],
   "source": [
    "def make_distribution(weights):\n",
    "    outputs = []\n",
    "    offsets = []\n",
    "    for i in range(0, len(weights)):\n",
    "        start = len(outputs)\n",
    "        for j in range(0, weights[i]):\n",
    "            outputs.append(i)\n",
    "            offsets.append(start)\n",
    "    return weights, outputs, offsets\n",
    "\n",
    "def generate_distribution(U_s, s, dist):\n",
    "    weights, outputs, offsets = dist\n",
    "    n = len(outputs)\n",
    "    U_s, s, U_n = generate_uniform(U_s, s, n)\n",
    "    U_s, s = combine(U_s, s, U_n-offsets[U_n], weights[outputs[U_n]])\n",
    "    return U_s, s, outputs[U_n]\n",
    "\n",
    "bits_fetched = 0\n",
    "counts = [0,0,0]\n",
    "dist = make_distribution([1,2,100])\n",
    "for i in range(0,1000):\n",
    "    U_s, s, n = generate_distribution(U_s, s, dist)\n",
    "    counts[n] = counts[n]+1\n",
    "print(\"Counts\", counts)\n",
    "print(\"Bits fetched=\", bits_fetched)\n"
   ]
  },
  {
   "cell_type": "markdown",
   "id": "f7751d21",
   "metadata": {},
   "source": [
    "We can verify that the counts are roughly in proportion to the desired distribution. See how we only read 230 bits to generate 1000 digits. (Or whatever your RNG ended up doing)."
   ]
  },
  {
   "cell_type": "markdown",
   "id": "2cf53457",
   "metadata": {},
   "source": [
    "Let's see how we can combine entropy from an arbitrary distributions back into the store."
   ]
  },
  {
   "cell_type": "code",
   "execution_count": 39,
   "id": "dd81d0cc",
   "metadata": {},
   "outputs": [],
   "source": [
    "def combine_distribution(U_s, s, dist, i):\n",
    "    weights, outputs, offsets = dist\n",
    "    U_s, s, U_x = generate_uniform(U_s, s, weights[i])\n",
    "    U_s, s = combine(U_s, s, U_x + offsets[i], len(outputs))\n",
    "    return U_s, s\n",
    "\n",
    "dist = make_distribution([1,2])\n",
    "\n",
    "U_s, s, n = generate_distribution(U_s, s, dist)\n",
    "U_s, s = combine_distribution(U_s, s, dist, n)"
   ]
  },
  {
   "cell_type": "markdown",
   "id": "bd5ea77d",
   "metadata": {},
   "source": [
    "Now let's implement a conversion function from one distribution to another"
   ]
  },
  {
   "cell_type": "code",
   "execution_count": 40,
   "id": "35870d6e",
   "metadata": {},
   "outputs": [
    {
     "data": {
      "text/plain": [
       "2"
      ]
     },
     "execution_count": 40,
     "metadata": {},
     "output_type": "execute_result"
    }
   ],
   "source": [
    "def convert_distribution(U_s, s, dist1, value, dist2):\n",
    "    U_s, s = combine_distribution(U_s, s, dist1, value)\n",
    "    return generate_distribution(U_s, s, dist2)\n",
    "\n",
    "dist1 = make_distribution([1,3])\n",
    "dist2 = make_distribution([1,2,3])\n",
    "U_s, s, v1 = generate_distribution(U_s, s, dist1)\n",
    "U_s, s, v2 = convert_distribution(U_s, s, dist1, v1, dist2)\n",
    "v2"
   ]
  },
  {
   "cell_type": "markdown",
   "id": "f1c34946",
   "metadata": {},
   "source": [
    "# Bernoulli output\n",
    "\n",
    "This function `expected_interval` calculates the expected number of bits required to generate a Bernoulli distribution of parameter `p`, using the interval method. `expected_interval_loss` calculates the bits lost generating a Bernoulli variable using the interval method."
   ]
  },
  {
   "cell_type": "code",
   "execution_count": 69,
   "id": "318287e3",
   "metadata": {},
   "outputs": [],
   "source": [
    "def expected_interval(p):\n",
    "    def simulate(depth, range, delta):\n",
    "        if range>=p or depth>10 or range+delta<=p:\n",
    "            return depth * delta\n",
    "        delta *= 0.5\n",
    "        depth += 1\n",
    "        return simulate(depth, range, delta) + simulate(depth, range+delta, delta)\n",
    "\n",
    "    return simulate(0, 0, 1)\n",
    "\n",
    "def expected_interval_loss(p):\n",
    "    return expected_interval(p) - binary_entropy(p)"
   ]
  },
  {
   "cell_type": "code",
   "execution_count": 70,
   "id": "1fd9c2b2",
   "metadata": {},
   "outputs": [
    {
     "data": {
      "text/plain": [
       "1.5"
      ]
     },
     "execution_count": 70,
     "metadata": {},
     "output_type": "execute_result"
    }
   ],
   "source": [
    "expected_interval(0.25)"
   ]
  },
  {
   "cell_type": "code",
   "execution_count": 71,
   "id": "3921d2d3",
   "metadata": {},
   "outputs": [
    {
     "data": {
      "text/plain": [
       "1.0"
      ]
     },
     "execution_count": 71,
     "metadata": {},
     "output_type": "execute_result"
    }
   ],
   "source": [
    "expected_interval(0.5)"
   ]
  },
  {
   "cell_type": "code",
   "execution_count": 72,
   "id": "31d758ac",
   "metadata": {},
   "outputs": [
    {
     "data": {
      "text/plain": [
       "1.5300278439107189"
      ]
     },
     "execution_count": 72,
     "metadata": {},
     "output_type": "execute_result"
    }
   ],
   "source": [
    "expected_interval_loss(0.9)"
   ]
  },
  {
   "cell_type": "code",
   "execution_count": 73,
   "id": "d359997c",
   "metadata": {},
   "outputs": [
    {
     "data": {
      "text/plain": [
       "1.0807276034455104"
      ]
     },
     "execution_count": 73,
     "metadata": {},
     "output_type": "execute_result"
    }
   ],
   "source": [
    "expected_interval_loss(1/3)"
   ]
  },
  {
   "cell_type": "code",
   "execution_count": 75,
   "id": "e238a828",
   "metadata": {},
   "outputs": [
    {
     "data": {
      "text/plain": [
       "1.9876156797625388"
      ]
     },
     "execution_count": 75,
     "metadata": {},
     "output_type": "execute_result"
    }
   ],
   "source": [
    "expected_interval_loss(1/1000)"
   ]
  },
  {
   "cell_type": "markdown",
   "id": "bc5adb06",
   "metadata": {},
   "source": [
    "Generate a graph of loss vs p."
   ]
  },
  {
   "cell_type": "code",
   "execution_count": 122,
   "id": "2a735cea",
   "metadata": {},
   "outputs": [],
   "source": [
    "def epsilon(p):\n",
    "    if p==0:\n",
    "        return 0\n",
    "    return -(p/(1-p)) * math.log2(p) - math.log2(1-p) \n",
    "\n",
    "s = 1\n",
    "def epsilon_actuals(n, N):\n",
    "    global s\n",
    "    while s<N:\n",
    "        s = s*2\n",
    "    s0 = s\n",
    "    s, c = divmod(s, n)\n",
    "    return binary_entropy(c/s0)"
   ]
  },
  {
   "cell_type": "code",
   "execution_count": 124,
   "id": "ccd4e45e",
   "metadata": {},
   "outputs": [
    {
     "data": {
      "image/png": "[encoded data removed]",
      "text/plain": [
       "<Figure size 640x480 with 1 Axes>"
      ]
     },
     "metadata": {},
     "output_type": "display_data"
    }
   ],
   "source": [
    "series = range(3,1001)\n",
    "interval_losses = [expected_interval_loss(1/n) for n in series]\n",
    "epsilon32_losses = [epsilon((n-1)/(2**31)) for n in series]\n",
    "epsilon32_actuals = [epsilon_actuals(n, 2**31) for n in series]\n",
    "epsilon64_losses = [epsilon((n-1)/(2**63)) for n in series]\n",
    "epsilon64_actuals = [epsilon_actuals(n, 2**63) for n in series]\n",
    "\n",
    "plt.clf()\n",
    "\n",
    "plt.title('Entropy loss generating Bernoulli{1/n}')\n",
    "\n",
    "plt.xlabel('n')\n",
    "plt.ylabel('Entropy loss (bits)')\n",
    "plt.yscale('log')\n",
    "plt.ylim(1e-20, 10)\n",
    "\n",
    "plt.grid(True, which=\"both\", ls=\"--\")\n",
    "plt.plot(series, interval_losses, label='Interval algorithm')\n",
    "plt.plot(series, epsilon32_losses, label='Epsilon 32-bit')\n",
    "plt.plot(series, epsilon32_actuals, label='Epsilon 32-bit actual')\n",
    "plt.plot(series, epsilon64_losses, label='Epsilon 64-bit')\n",
    "plt.plot(series, epsilon64_actuals, label='Epsilon 64-bit actual')\n",
    "plt.legend(loc='upper right')\n",
    "plt.savefig('bernoulli_losses.png')\n",
    "plt.show()"
   ]
  },
  {
   "cell_type": "code",
   "execution_count": 118,
   "id": "57515988",
   "metadata": {},
   "outputs": [
    {
     "data": {
      "image/png": "[encoded data removed]",
      "text/plain": [
       "<Figure size 640x480 with 1 Axes>"
      ]
     },
     "metadata": {},
     "output_type": "display_data"
    }
   ],
   "source": [
    "\n",
    "def interval_efficiency(p):\n",
    "    return binary_entropy(p) / expected_interval(p)\n",
    "\n",
    "series = range(3,1001)\n",
    "interval_losses = [expected_interval_loss(1/n) for n in series]\n",
    "interval_efficiency = [interval_efficiency(1/n) for n in series]\n",
    "\n",
    "plt.clf()\n",
    "\n",
    "plt.title('Entropy efficiency generating Bernoulli{1/n}')\n",
    "\n",
    "plt.xlabel('n')\n",
    "plt.ylabel('Entropy efficiency')\n",
    "\n",
    "plt.grid(True, which=\"both\", ls=\"--\")\n",
    "plt.plot(series, interval_efficiency, label='Interval algorithm')\n",
    "plt.legend(loc='upper right')\n",
    "plt.savefig('bernoulli_losses.png')\n",
    "plt.show()"
   ]
  }
 ],
 "metadata": {
  "kernelspec": {
   "display_name": ".venv",
   "language": "python",
   "name": "python3"
  },
  "language_info": {
   "codemirror_mode": {
    "name": "ipython",
    "version": 3
   },
   "file_extension": ".py",
   "mimetype": "text/x-python",
   "name": "python",
   "nbconvert_exporter": "python",
   "pygments_lexer": "ipython3",
   "version": "3.13.3"
  }
 },
 "nbformat": 4,
 "nbformat_minor": 5
}
