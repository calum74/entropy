{
 "cells": [
  {
   "cell_type": "markdown",
   "id": "4fe3b42b",
   "metadata": {},
   "source": [
    "# Algorithms for efficient entropy conversion\n",
    "\n",
    "By Calum Grant, June 2025\n",
    "\n",
    "This page is to reproduce the results of the accompanying paper."
   ]
  },
  {
   "cell_type": "markdown",
   "id": "83f6f0c2",
   "metadata": {},
   "source": [
    "The code is in the accompanying [entropy.py](entropy.py) file. We'll import it as follows:"
   ]
  },
  {
   "cell_type": "code",
   "execution_count": 1,
   "id": "9cebb3d2",
   "metadata": {},
   "outputs": [],
   "source": [
    "from entropy import *"
   ]
  },
  {
   "cell_type": "markdown",
   "id": "e6684fb7",
   "metadata": {},
   "source": [
    "## Basic entropy operations\n",
    "\n",
    "The basic operations are provided by `combine()`, `divide()`, `resample()` functions."
   ]
  },
  {
   "cell_type": "code",
   "execution_count": 2,
   "id": "c017d6f8",
   "metadata": {},
   "outputs": [],
   "source": [
    "def combine(U_n, n, U_m, m):\n",
    "    return U_n * m + U_m, n*m\n",
    "\n",
    "def divide(U_nm, nm, n):\n",
    "    U_m, U_n = divmod(U_nm, n)\n",
    "    m = nm // n\n",
    "    return U_m, m, U_n\n",
    "\n",
    "def resample(U_n, n, m):\n",
    "    if U_n < n:\n",
    "        B = True\n",
    "        x = m\n",
    "        U_x = U_n\n",
    "    else:\n",
    "        B = False\n",
    "        x = m-n\n",
    "        U_x = U_n - m\n",
    "    return U_x, x, B"
   ]
  },
  {
   "cell_type": "markdown",
   "id": "ff6ccc5c",
   "metadata": {},
   "source": [
    "We'll also create a `fetch()` function that returns one bit of entropy, and now we have `generate_uniform()` to create perfectly uniform random variables of the given size! In this example, we're just using the built-in `random` module but we could fetch hardware entropy if we wanted to."
   ]
  },
  {
   "cell_type": "code",
   "execution_count": 3,
   "id": "bc818283",
   "metadata": {},
   "outputs": [],
   "source": [
    "import random\n",
    "U_s = 0\n",
    "s = 1\n",
    "bits_fetched = 0\n",
    "N = 1<<31\n",
    "\n",
    "def fetch():\n",
    "    global bits_fetched\n",
    "    bits_fetched += 1\n",
    "    return random.randint(0,1)\n",
    "\n",
    "def generate_uniform(U_s, s, n):\n",
    "    while True:\n",
    "        while s < N:\n",
    "            U_s, s = combine(U_s, s, fetch(), 2)\n",
    "        U_s, s, b = downsample(U_s, s, s % n)\n",
    "        if not b:\n",
    "            U_s, s, U_n = divide(U_s, s, n) \n",
    "            return U_s, s, U_n"
   ]
  },
  {
   "cell_type": "markdown",
   "id": "5d3fdcb4",
   "metadata": {},
   "source": [
    "Let's just test it"
   ]
  },
  {
   "cell_type": "code",
   "execution_count": 4,
   "id": "e5279bd4",
   "metadata": {},
   "outputs": [
    {
     "data": {
      "text/plain": [
       "0"
      ]
     },
     "execution_count": 4,
     "metadata": {},
     "output_type": "execute_result"
    }
   ],
   "source": [
    "U_s, s, x = generate_uniform(U_s, s, 6)\n",
    "x"
   ]
  },
  {
   "cell_type": "markdown",
   "id": "98edf3b0",
   "metadata": {},
   "source": [
    "Let's test it on a larger sample. It's not the most rigourous test, but we would expect around 100 in each bin. Remember we've proven the correctness of this algorithm, so it's just to make sure we haven't messed up the implementation somewhere."
   ]
  },
  {
   "cell_type": "code",
   "execution_count": 5,
   "id": "20ca5944",
   "metadata": {},
   "outputs": [
    {
     "data": {
      "text/plain": [
       "[97, 108, 99, 100, 99, 97]"
      ]
     },
     "execution_count": 5,
     "metadata": {},
     "output_type": "execute_result"
    }
   ],
   "source": [
    "counts = [0,0,0,0,0,0]\n",
    "for i in range (0,600):\n",
    "    U_s, s, x = generate_uniform(U_s, s, 6)\n",
    "    counts[x] += 1\n",
    "counts"
   ]
  },
  {
   "cell_type": "markdown",
   "id": "24da6c12",
   "metadata": {},
   "source": [
    "## Distributions\n",
    "\n",
    "The `entropy` module also defines the distributions `U` and `B`. We can construct `U` objects manually as follows:"
   ]
  },
  {
   "cell_type": "code",
   "execution_count": 6,
   "id": "2c9173a3",
   "metadata": {},
   "outputs": [
    {
     "data": {
      "text/plain": [
       "U(6)"
      ]
     },
     "execution_count": 6,
     "metadata": {},
     "output_type": "execute_result"
    }
   ],
   "source": [
    "U(4,6)"
   ]
  },
  {
   "cell_type": "markdown",
   "id": "5fba80ba",
   "metadata": {},
   "source": [
    "The default `U` object has size 1, which means it has no entropy."
   ]
  },
  {
   "cell_type": "code",
   "execution_count": 7,
   "id": "63d12cf6",
   "metadata": {},
   "outputs": [
    {
     "data": {
      "text/plain": [
       "U(1)"
      ]
     },
     "execution_count": 7,
     "metadata": {},
     "output_type": "execute_result"
    }
   ],
   "source": [
    "U()"
   ]
  },
  {
   "cell_type": "markdown",
   "id": "1fc13aba",
   "metadata": {},
   "source": [
    "We can measure the stored entropy using the `entropy()` method:"
   ]
  },
  {
   "cell_type": "code",
   "execution_count": 8,
   "id": "ce82b68b",
   "metadata": {},
   "outputs": [
    {
     "data": {
      "text/plain": [
       "0.0"
      ]
     },
     "execution_count": 8,
     "metadata": {},
     "output_type": "execute_result"
    }
   ],
   "source": [
    "U().entropy()"
   ]
  },
  {
   "cell_type": "code",
   "execution_count": 9,
   "id": "045bdc04",
   "metadata": {},
   "outputs": [
    {
     "data": {
      "text/plain": [
       "2.584962500721156"
      ]
     },
     "execution_count": 9,
     "metadata": {},
     "output_type": "execute_result"
    }
   ],
   "source": [
    "U(1,6).entropy()"
   ]
  },
  {
   "cell_type": "markdown",
   "id": "703f3a88",
   "metadata": {},
   "source": [
    "Whenever you read or consume the entropy, the original entropy becomes empty (`U(1)`). This is to prevent errors reusing the same entropy."
   ]
  },
  {
   "cell_type": "code",
   "execution_count": 10,
   "id": "cb5ae0ad",
   "metadata": {},
   "outputs": [
    {
     "data": {
      "text/plain": [
       "1"
      ]
     },
     "execution_count": 10,
     "metadata": {},
     "output_type": "execute_result"
    }
   ],
   "source": [
    "x = U(1,6)\n",
    "x.entropy()\n",
    "x.read()"
   ]
  },
  {
   "cell_type": "markdown",
   "id": "1d885efe",
   "metadata": {},
   "source": [
    "Calling `read()` turned `x` into a pumpkin!"
   ]
  },
  {
   "cell_type": "code",
   "execution_count": 11,
   "id": "ff5555b7",
   "metadata": {},
   "outputs": [
    {
     "data": {
      "text/plain": [
       "U(1)"
      ]
     },
     "execution_count": 11,
     "metadata": {},
     "output_type": "execute_result"
    }
   ],
   "source": [
    "x\n"
   ]
  },
  {
   "cell_type": "code",
   "execution_count": 12,
   "id": "4ad9a833",
   "metadata": {},
   "outputs": [
    {
     "data": {
      "text/plain": [
       "0.0"
      ]
     },
     "execution_count": 12,
     "metadata": {},
     "output_type": "execute_result"
    }
   ],
   "source": [
    "x.entropy()"
   ]
  },
  {
   "cell_type": "markdown",
   "id": "726b437f",
   "metadata": {},
   "source": [
    "The basic entropy operations are implemented on `U`:"
   ]
  },
  {
   "cell_type": "code",
   "execution_count": 13,
   "id": "b1a27c15",
   "metadata": {},
   "outputs": [
    {
     "data": {
      "text/plain": [
       "U(36)"
      ]
     },
     "execution_count": 13,
     "metadata": {},
     "output_type": "execute_result"
    }
   ],
   "source": [
    "U(1,6).combine(U(2,6))"
   ]
  },
  {
   "cell_type": "code",
   "execution_count": 14,
   "id": "b5a27c43",
   "metadata": {},
   "outputs": [
    {
     "data": {
      "text/plain": [
       "(U(26), B(10/36))"
      ]
     },
     "execution_count": 14,
     "metadata": {},
     "output_type": "execute_result"
    }
   ],
   "source": [
    "U(10,36).downsample(10)"
   ]
  },
  {
   "cell_type": "code",
   "execution_count": 15,
   "id": "65a62ae5",
   "metadata": {},
   "outputs": [
    {
     "data": {
      "text/plain": [
       "(U(10), B(10/36))"
      ]
     },
     "execution_count": 15,
     "metadata": {},
     "output_type": "execute_result"
    }
   ],
   "source": [
    "U(9,36).downsample(10)"
   ]
  },
  {
   "cell_type": "markdown",
   "id": "887617a0",
   "metadata": {},
   "source": [
    "The entropy operations *destroy* the original entropy, to prevent errors."
   ]
  },
  {
   "cell_type": "code",
   "execution_count": 16,
   "id": "fa85a3aa",
   "metadata": {},
   "outputs": [
    {
     "data": {
      "text/plain": [
       "U(1)"
      ]
     },
     "execution_count": 16,
     "metadata": {},
     "output_type": "execute_result"
    }
   ],
   "source": [
    "x = U(1,6)\n",
    "y = x.combine(U(3,6))\n",
    "x"
   ]
  },
  {
   "cell_type": "markdown",
   "id": "1caa453c",
   "metadata": {},
   "source": [
    "# Calculating entropy for individual integers\n",
    "\n",
    "The functions `expected_rejection_sampling()`, `expected_fast_dice_roller()` and `worst_case_eec()` calculate \n",
    "the expected entropy consumption for each integer generated. For example:"
   ]
  },
  {
   "cell_type": "code",
   "execution_count": 17,
   "id": "12f8ab3c",
   "metadata": {},
   "outputs": [
    {
     "data": {
      "text/plain": [
       "(2.6666666666666665, 2.6666259765625, 1.5849625300044479)"
      ]
     },
     "execution_count": 17,
     "metadata": {},
     "output_type": "execute_result"
    }
   ],
   "source": [
    "expected_rejection_sampling(3), expected_fast_dice_roller(3), worst_case_eec(3)"
   ]
  },
  {
   "cell_type": "code",
   "execution_count": 18,
   "id": "edd21e36",
   "metadata": {},
   "outputs": [
    {
     "data": {
      "text/plain": [
       "0.999999972869868"
      ]
     },
     "execution_count": 18,
     "metadata": {},
     "output_type": "execute_result"
    }
   ],
   "source": [
    "math.log2(6)/worst_case_eec(6)"
   ]
  },
  {
   "cell_type": "markdown",
   "id": "51a06534",
   "metadata": {},
   "source": [
    "Interestingly, `worst_case_eec` actually gives a entropy worse higher for powers of 2, but this is correct."
   ]
  },
  {
   "cell_type": "code",
   "execution_count": 19,
   "id": "72a785e3",
   "metadata": {},
   "outputs": [
    {
     "data": {
      "text/plain": [
       "(2.0, 2, 2.0000000431077543)"
      ]
     },
     "execution_count": 19,
     "metadata": {},
     "output_type": "execute_result"
    }
   ],
   "source": [
    "expected_rejection_sampling(4), expected_fast_dice_roller(4), worst_case_eec(4)"
   ]
  },
  {
   "cell_type": "markdown",
   "id": "a20a0eab",
   "metadata": {},
   "source": [
    "Let's calculate the entropy efficiency generating the first 100 integers."
   ]
  },
  {
   "cell_type": "code",
   "execution_count": 20,
   "id": "db32e8b7",
   "metadata": {},
   "outputs": [
    {
     "data": {
      "image/png": "[encoded data removed]",
      "text/plain": [
       "<Figure size 640x480 with 1 Axes>"
      ]
     },
     "metadata": {},
     "output_type": "display_data"
    }
   ],
   "source": [
    "numbers = range(2,101)\n",
    "rs_efficiency = [math.log2(n)/expected_rejection_sampling(n) for n in numbers]\n",
    "fdr_efficiency = [math.log2(n)/expected_fast_dice_roller(n) for n in numbers]\n",
    "eec_efficiency = [math.log2(n)/worst_case_eec(n) for n in numbers]\n",
    "\n",
    "import matplotlib.pyplot as plt\n",
    "plt.title('Generating a uniform integer 0..n-1')\n",
    "plt.xlabel('n')\n",
    "plt.ylabel('Entropy efficiency')\n",
    "plt.plot(numbers, rs_efficiency, label='Rejection sampling')\n",
    "plt.plot(numbers, fdr_efficiency, label='Knuth-Yao')\n",
    "plt.plot(numbers, eec_efficiency, label='Entropy store')\n",
    "plt.legend()\n",
    "plt.savefig('uniform_efficiency.png')\n",
    "plt.show()"
   ]
  },
  {
   "cell_type": "code",
   "execution_count": 21,
   "id": "38a69129",
   "metadata": {},
   "outputs": [
    {
     "data": {
      "text/plain": [
       "2.584962500721156"
      ]
     },
     "execution_count": 21,
     "metadata": {},
     "output_type": "execute_result"
    }
   ],
   "source": [
    "math.log2(6)"
   ]
  },
  {
   "cell_type": "code",
   "execution_count": 22,
   "id": "ba7390c6",
   "metadata": {},
   "outputs": [
    {
     "data": {
      "text/plain": [
       "3.6666259765625"
      ]
     },
     "execution_count": 22,
     "metadata": {},
     "output_type": "execute_result"
    }
   ],
   "source": [
    "expected_fast_dice_roller(6)"
   ]
  },
  {
   "cell_type": "markdown",
   "id": "b38c5729",
   "metadata": {},
   "source": [
    "## Calculating entropy of card shuffling\n",
    "\n",
    "Entropy of card shuffling just sums the entropy needed for a Fisher-Yates shuffling algorithm."
   ]
  },
  {
   "cell_type": "code",
   "execution_count": 23,
   "id": "32aa2a9d",
   "metadata": {},
   "outputs": [],
   "source": [
    "def expected_card_shuffling(n:int, expected) -> float:\n",
    "    output = 0\n",
    "    input = 0\n",
    "    for i in range(2,n+1):\n",
    "        output += math.log2(i)\n",
    "        input += expected(i)   \n",
    "    return output, input, output/input"
   ]
  },
  {
   "cell_type": "markdown",
   "id": "5696c48f",
   "metadata": {},
   "source": [
    "Test it on a deck of 52 cards"
   ]
  },
  {
   "cell_type": "code",
   "execution_count": 24,
   "id": "afbee4b8",
   "metadata": {},
   "outputs": [
    {
     "data": {
      "text/plain": [
       "(225.58100312370277, 355.90835089243757, 0.6338176740109078)"
      ]
     },
     "execution_count": 24,
     "metadata": {},
     "output_type": "execute_result"
    }
   ],
   "source": [
    "expected_card_shuffling(52, expected_rejection_sampling)"
   ]
  },
  {
   "cell_type": "code",
   "execution_count": 25,
   "id": "571c2dba",
   "metadata": {},
   "outputs": [
    {
     "data": {
      "text/plain": [
       "(225.58100312370277, 277.8389933995495, 0.811912684981922)"
      ]
     },
     "execution_count": 25,
     "metadata": {},
     "output_type": "execute_result"
    }
   ],
   "source": [
    "expected_card_shuffling(52, expected_fast_dice_roller)"
   ]
  },
  {
   "cell_type": "code",
   "execution_count": 26,
   "id": "339dd227",
   "metadata": {},
   "outputs": [
    {
     "data": {
      "text/plain": [
       "(225.58100312370277, 225.581020089913, 0.9999999247888398)"
      ]
     },
     "execution_count": 26,
     "metadata": {},
     "output_type": "execute_result"
    }
   ],
   "source": [
    "expected_card_shuffling(52, worst_case_eec)"
   ]
  },
  {
   "cell_type": "markdown",
   "id": "77eb4649",
   "metadata": {},
   "source": [
    "Now just draw a graph of decks size 2 to 100"
   ]
  },
  {
   "cell_type": "code",
   "execution_count": 27,
   "id": "b7c12df5",
   "metadata": {},
   "outputs": [
    {
     "data": {
      "image/png": "[encoded data removed]",
      "text/plain": [
       "<Figure size 640x480 with 1 Axes>"
      ]
     },
     "metadata": {},
     "output_type": "display_data"
    }
   ],
   "source": [
    "numbers = range(2,101)\n",
    "rs_efficiency = [expected_card_shuffling(n, expected_rejection_sampling)[2] for n in numbers]\n",
    "fdr_efficiency = [expected_card_shuffling(n, expected_fast_dice_roller)[2] for n in numbers]\n",
    "eec_efficiency = [expected_card_shuffling(n, worst_case_eec)[2] for n in numbers]\n",
    "\n",
    "plt.clf()\n",
    "plt.title('Fisher-Yates card shuffling efficiency')\n",
    "\n",
    "plt.xlabel('Size of deck')\n",
    "plt.ylabel('Entropy efficiency')\n",
    "plt.plot(numbers, rs_efficiency, label='Rejection sampling')\n",
    "plt.plot(numbers, fdr_efficiency, label='Knuth-Yao')\n",
    "plt.plot(numbers, eec_efficiency, label='Entropy store')\n",
    "plt.legend(loc='upper right')\n",
    "plt.savefig('shuffling_efficiency.png')\n",
    "plt.show()"
   ]
  },
  {
   "cell_type": "markdown",
   "id": "64b63e86",
   "metadata": {},
   "source": [
    "Let's look at the lost entropy now, using a log-log scale. (TODO)"
   ]
  },
  {
   "cell_type": "markdown",
   "id": "8fcb7746",
   "metadata": {},
   "source": [
    "## Simulations\n",
    "\n",
    "We can implement entropy generators based on the above algorithms to see how they perform in practice. This is a good way to check the implementation for mistakes."
   ]
  },
  {
   "cell_type": "code",
   "execution_count": 28,
   "id": "47142c01",
   "metadata": {},
   "outputs": [],
   "source": [
    "bin = BinaryEntropySource()"
   ]
  },
  {
   "cell_type": "markdown",
   "id": "cd70e4a9",
   "metadata": {},
   "source": [
    "`MeasuringSource` wraps any entropy source and keeps track of how much entropy was delivered."
   ]
  },
  {
   "cell_type": "code",
   "execution_count": 29,
   "id": "a1f6bdb8",
   "metadata": {},
   "outputs": [],
   "source": [
    "measured_input = MeasuringSource(bin)"
   ]
  },
  {
   "cell_type": "code",
   "execution_count": 30,
   "id": "77590597",
   "metadata": {},
   "outputs": [],
   "source": [
    "rs = RejectionSamplingEntropySource(measured_input)\n",
    "fdr = FastDiceRollerEntropySource(measured_input)\n",
    "eec = EfficientEntropySource(measured_input)"
   ]
  },
  {
   "cell_type": "markdown",
   "id": "ccee76f5",
   "metadata": {},
   "source": [
    "Set up an entropy store based on rejection sampling and measure its outputs:"
   ]
  },
  {
   "cell_type": "code",
   "execution_count": 31,
   "id": "4f58e5ef",
   "metadata": {},
   "outputs": [
    {
     "data": {
      "text/plain": [
       "342.0"
      ]
     },
     "execution_count": 31,
     "metadata": {},
     "output_type": "execute_result"
    }
   ],
   "source": [
    "def measure_card_shuffle(input, output):\n",
    "    input.entropy = 0\n",
    "    output.entropy = 0\n",
    "    shuffle(deck(), output)\n",
    "    return input.entropy\n",
    "\n",
    "measure_card_shuffle(measured_input, MeasuringSource(rs))"
   ]
  },
  {
   "cell_type": "markdown",
   "id": "34e7b8fb",
   "metadata": {},
   "source": [
    "Note this will vary between runs."
   ]
  },
  {
   "cell_type": "code",
   "execution_count": 32,
   "id": "00cc135a",
   "metadata": {},
   "outputs": [
    {
     "data": {
      "text/plain": [
       "293.0"
      ]
     },
     "execution_count": 32,
     "metadata": {},
     "output_type": "execute_result"
    }
   ],
   "source": [
    "measure_card_shuffle(measured_input, MeasuringSource(fdr))"
   ]
  },
  {
   "cell_type": "markdown",
   "id": "8527ec30",
   "metadata": {},
   "source": [
    "Note this will vary between runs."
   ]
  },
  {
   "cell_type": "markdown",
   "id": "f566dc34",
   "metadata": {},
   "source": [
    "Let's measure how much entropy the efficient entropy converter uses to shuffle a deck:"
   ]
  },
  {
   "cell_type": "code",
   "execution_count": 33,
   "id": "ca0fcd20",
   "metadata": {},
   "outputs": [
    {
     "data": {
      "text/plain": [
       "225.58100347975855"
      ]
     },
     "execution_count": 33,
     "metadata": {},
     "output_type": "execute_result"
    }
   ],
   "source": [
    "eec.store = U()\n",
    "measure_card_shuffle(measured_input, MeasuringSource(eec)) - eec.store.entropy()"
   ]
  },
  {
   "cell_type": "markdown",
   "id": "22fbf182",
   "metadata": {},
   "source": [
    "Note that this is a little better than our calculated worst-case scenario, and a little worse than the theoretical limit of $\\log_252!$."
   ]
  },
  {
   "cell_type": "markdown",
   "id": "4fb5f2db",
   "metadata": {},
   "source": [
    "Let's just see the `shuffle()` function in action:"
   ]
  },
  {
   "cell_type": "code",
   "execution_count": 34,
   "id": "c5e26ac5",
   "metadata": {},
   "outputs": [
    {
     "data": {
      "text/plain": [
       "'NPlsLhZpEGeCYqrboVnWySHiUMtfaxjdzXABIwugJDKQmcTFvkRO'"
      ]
     },
     "execution_count": 34,
     "metadata": {},
     "output_type": "execute_result"
    }
   ],
   "source": [
    "src = EfficientEntropySource(bin)\n",
    "d = deck()\n",
    "shuffle(d, src)\n",
    "''.join(d)"
   ]
  },
  {
   "cell_type": "markdown",
   "id": "a52b93a9",
   "metadata": {},
   "source": [
    "# Calculating entropy loss"
   ]
  },
  {
   "cell_type": "code",
   "execution_count": 35,
   "id": "43da401d",
   "metadata": {},
   "outputs": [],
   "source": [
    "def H_loss(p:float) -> float:\n",
    "    return -(p/(1-p)) * math.log2(p) - math.log2(1-p)\n",
    "\n",
    "def minefficiency(n, N) -> float:\n",
    "    return math.log2(n) / (math.log2(n) + H_loss((n-1)/N))"
   ]
  },
  {
   "cell_type": "code",
   "execution_count": 36,
   "id": "95781f14",
   "metadata": {},
   "outputs": [
    {
     "data": {
      "text/plain": [
       "7.013037571323212e-08"
      ]
     },
     "execution_count": 36,
     "metadata": {},
     "output_type": "execute_result"
    }
   ],
   "source": [
    "H_loss((6-1)/(2**31))"
   ]
  },
  {
   "cell_type": "code",
   "execution_count": 37,
   "id": "0f8b21f1",
   "metadata": {},
   "outputs": [
    {
     "data": {
      "text/plain": [
       "0.999999972869868"
      ]
     },
     "execution_count": 37,
     "metadata": {},
     "output_type": "execute_result"
    }
   ],
   "source": [
    "minefficiency(6, 2**31)"
   ]
  },
  {
   "cell_type": "markdown",
   "id": "70d51e85",
   "metadata": {},
   "source": [
    "# Generating arbitrary distributions"
   ]
  },
  {
   "cell_type": "markdown",
   "id": "4ae9e6c9",
   "metadata": {},
   "source": [
    "The `make_distribution` function creates two additional lookup tables:\n",
    "\n",
    "- a map from a uniform random number to the output number\n",
    "- a map from the uniform random number to the first number in the range\n",
    "\n",
    "The second table is needed when we recover a uniform distribution that must be recombined into the entropy store."
   ]
  },
  {
   "cell_type": "code",
   "execution_count": 38,
   "id": "0e018680",
   "metadata": {},
   "outputs": [
    {
     "name": "stdout",
     "output_type": "stream",
     "text": [
      "Counts [8, 22, 970]\n",
      "Bits fetched= 223\n"
     ]
    }
   ],
   "source": [
    "def make_distribution(weights):\n",
    "    outputs = []\n",
    "    offsets = []\n",
    "    for i in range(0, len(weights)):\n",
    "        start = len(outputs)\n",
    "        for j in range(0, weights[i]):\n",
    "            outputs.append(i)\n",
    "            offsets.append(start)\n",
    "    return weights, outputs, offsets\n",
    "\n",
    "def generate_distribution(U_s, s, dist):\n",
    "    weights, outputs, offsets = dist\n",
    "    n = len(outputs)\n",
    "    U_s, s, U_n = generate_uniform(U_s, s, n)\n",
    "    U_s, s = combine(U_s, s, U_n-offsets[U_n], weights[outputs[U_n]])\n",
    "    return U_s, s, outputs[U_n]\n",
    "\n",
    "bits_fetched = 0\n",
    "counts = [0,0,0]\n",
    "dist = make_distribution([1,2,100])\n",
    "for i in range(0,1000):\n",
    "    U_s, s, n = generate_distribution(U_s, s, dist)\n",
    "    counts[n] = counts[n]+1\n",
    "print(\"Counts\", counts)\n",
    "print(\"Bits fetched=\", bits_fetched)\n"
   ]
  },
  {
   "cell_type": "markdown",
   "id": "f7751d21",
   "metadata": {},
   "source": [
    "We can verify that the counts are roughly in proportion to the desired distribution. See how we only read 230 bits to generate 1000 digits. (Or whatever your RNG ended up doing)."
   ]
  },
  {
   "cell_type": "markdown",
   "id": "2cf53457",
   "metadata": {},
   "source": [
    "Let's see how we can combine entropy from an arbitrary distributions back into the store."
   ]
  },
  {
   "cell_type": "code",
   "execution_count": 39,
   "id": "dd81d0cc",
   "metadata": {},
   "outputs": [],
   "source": [
    "def combine_distribution(U_s, s, dist, i):\n",
    "    weights, outputs, offsets = dist\n",
    "    U_s, s, U_x = generate_uniform(U_s, s, weights[i])\n",
    "    U_s, s = combine(U_s, s, U_x + offsets[i], len(outputs))\n",
    "    return U_s, s\n",
    "\n",
    "dist = make_distribution([1,2])\n",
    "\n",
    "U_s, s, n = generate_distribution(U_s, s, dist)\n",
    "U_s, s = combine_distribution(U_s, s, dist, n)"
   ]
  },
  {
   "cell_type": "markdown",
   "id": "bd5ea77d",
   "metadata": {},
   "source": [
    "Now let's implement a conversion function from one distribution to another"
   ]
  },
  {
   "cell_type": "code",
   "execution_count": 40,
   "id": "35870d6e",
   "metadata": {},
   "outputs": [
    {
     "data": {
      "text/plain": [
       "2"
      ]
     },
     "execution_count": 40,
     "metadata": {},
     "output_type": "execute_result"
    }
   ],
   "source": [
    "def convert_distribution(U_s, s, dist1, value, dist2):\n",
    "    U_s, s = combine_distribution(U_s, s, dist1, value)\n",
    "    return generate_distribution(U_s, s, dist2)\n",
    "\n",
    "dist1 = make_distribution([1,3])\n",
    "dist2 = make_distribution([1,2,3])\n",
    "U_s, s, v1 = generate_distribution(U_s, s, dist1)\n",
    "U_s, s, v2 = convert_distribution(U_s, s, dist1, v1, dist2)\n",
    "v2"
   ]
  },
  {
   "cell_type": "markdown",
   "id": "f1c34946",
   "metadata": {},
   "source": [
    "# Bernoulli output\n",
    "\n",
    "This function `expected_interval` calculates the expected number of bits required to generate a Bernoulli distribution of parameter `p`, using the interval method. `expected_interval_loss` calculates the bits lost generating a Bernoulli variable using the interval method."
   ]
  },
  {
   "cell_type": "code",
   "execution_count": 69,
   "id": "318287e3",
   "metadata": {},
   "outputs": [],
   "source": [
    "def expected_interval(p):\n",
    "    def simulate(depth, range, delta):\n",
    "        if range>=p or depth>10 or range+delta<=p:\n",
    "            return depth * delta\n",
    "        delta *= 0.5\n",
    "        depth += 1\n",
    "        return simulate(depth, range, delta) + simulate(depth, range+delta, delta)\n",
    "\n",
    "    return simulate(0, 0, 1)\n",
    "\n",
    "def expected_interval_loss(p):\n",
    "    return expected_interval(p) - binary_entropy(p)"
   ]
  },
  {
   "cell_type": "code",
   "execution_count": 70,
   "id": "1fd9c2b2",
   "metadata": {},
   "outputs": [
    {
     "data": {
      "text/plain": [
       "1.5"
      ]
     },
     "execution_count": 70,
     "metadata": {},
     "output_type": "execute_result"
    }
   ],
   "source": [
    "expected_interval(0.25)"
   ]
  },
  {
   "cell_type": "code",
   "execution_count": 71,
   "id": "3921d2d3",
   "metadata": {},
   "outputs": [
    {
     "data": {
      "text/plain": [
       "1.0"
      ]
     },
     "execution_count": 71,
     "metadata": {},
     "output_type": "execute_result"
    }
   ],
   "source": [
    "expected_interval(0.5)"
   ]
  },
  {
   "cell_type": "code",
   "execution_count": 72,
   "id": "31d758ac",
   "metadata": {},
   "outputs": [
    {
     "data": {
      "text/plain": [
       "1.5300278439107189"
      ]
     },
     "execution_count": 72,
     "metadata": {},
     "output_type": "execute_result"
    }
   ],
   "source": [
    "expected_interval_loss(0.9)"
   ]
  },
  {
   "cell_type": "code",
   "execution_count": 73,
   "id": "d359997c",
   "metadata": {},
   "outputs": [
    {
     "data": {
      "text/plain": [
       "1.0807276034455104"
      ]
     },
     "execution_count": 73,
     "metadata": {},
     "output_type": "execute_result"
    }
   ],
   "source": [
    "expected_interval_loss(1/3)"
   ]
  },
  {
   "cell_type": "code",
   "execution_count": 75,
   "id": "e238a828",
   "metadata": {},
   "outputs": [
    {
     "data": {
      "text/plain": [
       "1.9876156797625388"
      ]
     },
     "execution_count": 75,
     "metadata": {},
     "output_type": "execute_result"
    }
   ],
   "source": [
    "expected_interval_loss(1/1000)"
   ]
  },
  {
   "cell_type": "markdown",
   "id": "bc5adb06",
   "metadata": {},
   "source": [
    "Generate a graph of loss vs p."
   ]
  },
  {
   "cell_type": "code",
   "execution_count": 110,
   "id": "2a735cea",
   "metadata": {},
   "outputs": [],
   "source": [
    "def epsilon(p):\n",
    "    if p==0:\n",
    "        return 0\n",
    "    return -(p/(1-p)) * math.log2(p) - math.log2(1-p) "
   ]
  },
  {
   "cell_type": "code",
   "execution_count": 113,
   "id": "ccd4e45e",
   "metadata": {},
   "outputs": [
    {
     "data": {
      "image/png": "[encoded data removed]",
      "text/plain": [
       "<Figure size 640x480 with 1 Axes>"
      ]
     },
     "metadata": {},
     "output_type": "display_data"
    }
   ],
   "source": [
    "import numpy as np\n",
    "\n",
    "series = range(3,1001)\n",
    "interval_losses = [expected_interval_loss(1/n) for n in series]\n",
    "epsilon32_losses = [epsilon((n-1)/(2**31)) for n in series]\n",
    "epsilon64_losses = [epsilon((n-1)/(2**63)) for n in series]\n",
    "\n",
    "# x = np.logspace(-6, 1)\n",
    "plt.clf()\n",
    "# plt.figure()\n",
    "# plt.gca().xaxis.set_major_locator(LogLocator(base=10.0, numticks=10))\n",
    "\n",
    "plt.title('Entropy loss generating Bernoulli{1/n}')\n",
    "\n",
    "plt.xlabel('n')\n",
    "plt.ylabel('Entropy loss (bits)')\n",
    "plt.yscale('log')\n",
    "plt.ylim(1e-20, 10)\n",
    "\n",
    "plt.grid(True, which=\"both\", ls=\"--\")\n",
    "plt.plot(series, interval_losses, label='Interval algorithm')\n",
    "plt.plot(series, epsilon32_losses, label='Epsilon 32-bit')\n",
    "plt.plot(series, epsilon64_losses, label='Epsilon 64-bit')\n",
    "plt.legend(loc='upper right')\n",
    "plt.savefig('bernoulli_losses.png')\n",
    "plt.show()\n"
   ]
  },
  {
   "cell_type": "code",
   "execution_count": 109,
   "id": "57515988",
   "metadata": {},
   "outputs": [
    {
     "data": {
      "text/plain": [
       "[0,\n",
       " -1.3763692683172707e-08,\n",
       " -2.6596062803993845e-08,\n",
       " -3.9076911050557856e-08,\n",
       " -5.132948050607765e-08,\n",
       " -6.341230340608279e-08,\n",
       " -7.535985448145817e-08,\n",
       " -8.719491347959157e-08,\n",
       " -9.893367089603817e-08,\n",
       " -1.1058823235403783e-07,\n",
       " -1.2216799422051155e-07,\n",
       " -1.336804629565871e-07,\n",
       " -1.451317739163665e-07,\n",
       " -1.5652703597407251e-07,\n",
       " -1.678705694781491e-07,\n",
       " -1.7916607587393708e-07,\n",
       " -1.9041676189677608e-07,\n",
       " -2.0162543259949438e-07,\n",
       " -2.1279456241855952e-07,\n",
       " -2.239263504015018e-07,\n",
       " -2.350227637771937e-07,\n",
       " -2.460855727917088e-07,\n",
       " -2.571163788948022e-07,\n",
       " -2.6811663779179483e-07,\n",
       " -2.7908767847946934e-07,\n",
       " -2.9003071910427677e-07,\n",
       " -3.0094688027953185e-07,\n",
       " -3.1183719635105795e-07,\n",
       " -3.2270262499177737e-07,\n",
       " -3.335440554240686e-07,\n",
       " -3.443623155067946e-07,\n",
       " -3.551581778764519e-07,\n",
       " -3.659323652951765e-07,\n",
       " -3.7668555532966627e-07,\n",
       " -3.8741838446249875e-07,\n",
       " -3.9813145171939165e-07,\n",
       " -4.088253218816205e-07,\n",
       " -4.1950052834125647e-07,\n",
       " -4.3015757564753104e-07,\n",
       " -4.407969417849988e-07,\n",
       " -4.514190802179072e-07,\n",
       " -4.6202442173001656e-07,\n",
       " -4.7261337608483216e-07,\n",
       " -4.831863335276406e-07,\n",
       " -4.937436661477552e-07,\n",
       " -5.042857291168645e-07,\n",
       " -5.148128618172597e-07,\n",
       " -5.253253888719129e-07,\n",
       " -5.358236210868553e-07,\n",
       " -5.46307856314995e-07,\n",
       " -5.567783802493912e-07,\n",
       " -5.672354671530475e-07,\n",
       " -5.776793805314454e-07,\n",
       " -5.881103737533271e-07,\n",
       " -5.985286906246156e-07,\n",
       " -6.089345659198055e-07,\n",
       " -6.193282258746989e-07,\n",
       " -6.29709888643936e-07,\n",
       " -6.400797647264074e-07,\n",
       " -6.504380573613235e-07,\n",
       " -6.607849628974227e-07,\n",
       " -6.7112067113756e-07,\n",
       " -6.814453656606953e-07,\n",
       " -6.91759224123104e-07,\n",
       " -7.020624185404564e-07,\n",
       " -7.123551155522665e-07,\n",
       " -7.226374766700621e-07,\n",
       " -7.329096585105113e-07,\n",
       " -7.43171813014629e-07,\n",
       " -7.534240876540854e-07,\n",
       " -7.636666256255546e-07,\n",
       " -7.73899566033953e-07,\n",
       " -7.841230440653543e-07,\n",
       " -7.943371911502955e-07,\n",
       " -8.045421351181347e-07,\n",
       " -8.147380003430621e-07,\n",
       " -8.249249078823248e-07,\n",
       " -8.351029756071717e-07,\n",
       " -8.452723183270003e-07,\n",
       " -8.554330479071318e-07,\n",
       " -8.655852733806237e-07,\n",
       " -8.757291010544915e-07,\n",
       " -8.858646346106838e-07,\n",
       " -8.959919752021299e-07,\n",
       " -9.061112215441604e-07,\n",
       " -9.162224700015722e-07,\n",
       " -9.263258146715964e-07,\n",
       " -9.364213474630065e-07,\n",
       " -9.465091581715889e-07,\n",
       " -9.565893345521839e-07,\n",
       " -9.666619623874865e-07,\n",
       " -9.76727125553791e-07,\n",
       " -9.867849060838435e-07,\n",
       " -9.968353842269633e-07,\n",
       " -1.0068786385065766e-06,\n",
       " -1.0169147457753026e-06,\n",
       " -1.026943781267721e-06,\n",
       " -1.036965818650937e-06,\n",
       " -1.046980930073066e-06,\n",
       " -1.0569891862097346e-06,\n",
       " -1.0669906563087055e-06,\n",
       " -1.0769854082327162e-06,\n",
       " -1.0869735085006208e-06,\n",
       " -1.0969550223269195e-06,\n",
       " -1.1069300136597498e-06,\n",
       " -1.1168985452174215e-06,\n",
       " -1.1268606785235534e-06,\n",
       " -1.136816473940891e-06,\n",
       " -1.1467659907038529e-06,\n",
       " -1.1567092869498772e-06,\n",
       " -1.1666464197496145e-06,\n",
       " -1.1765774451360237e-06,\n",
       " -1.1865024181324197e-06,\n",
       " -1.1964213927795187e-06,\n",
       " -1.2063344221615255e-06,\n",
       " -1.2162415584313082e-06,\n",
       " -1.2261428528346921e-06,\n",
       " -1.2360383557339223e-06,\n",
       " -1.245928116630318e-06,\n",
       " -1.255812184186163e-06,\n",
       " -1.2656906062458581e-06,\n",
       " -1.27556342985637e-06,\n",
       " -1.2854307012870022e-06,\n",
       " -1.295292466048519e-06,\n",
       " -1.3051487689116492e-06,\n",
       " -1.3149996539249873e-06,\n",
       " -1.324845164432329e-06,\n",
       " -1.3346853430894503e-06,\n",
       " -1.3445202318803627e-06,\n",
       " -1.3543498721330561e-06,\n",
       " -1.3641743045347585e-06,\n",
       " -1.3739935691467205e-06,\n",
       " -1.3838077054185527e-06,\n",
       " -1.3936167522021273e-06,\n",
       " -1.4034207477650617e-06,\n",
       " -1.4132197298037982e-06,\n",
       " -1.4230137354562972e-06,\n",
       " -1.432802801314359e-06,\n",
       " -1.4425869634355814e-06,\n",
       " -1.4523662573549756e-06,\n",
       " -1.462140718096244e-06,\n",
       " -1.4719103801827364e-06,\n",
       " -1.4816752776480991e-06,\n",
       " -1.4914354440466174e-06,\n",
       " -1.5011909124632764e-06,\n",
       " -1.5109417155235342e-06,\n",
       " -1.520687885402833e-06,\n",
       " -1.5304294538358447e-06,\n",
       " -1.5401664521254678e-06,\n",
       " -1.549898911151577e-06,\n",
       " -1.5596268613795442e-06,\n",
       " -1.5693503328685266e-06,\n",
       " -1.5790693552795388e-06,\n",
       " -1.5887839578833087e-06,\n",
       " -1.5984941695679338e-06,\n",
       " -1.6082000188463324e-06,\n",
       " -1.6179015338635075e-06,\n",
       " -1.6275987424036203e-06,\n",
       " -1.6372916718968859e-06,\n",
       " -1.6469803494262965e-06,\n",
       " -1.6566648017341686e-06,\n",
       " -1.6663450552285349e-06,\n",
       " -1.6760211359893703e-06,\n",
       " -1.6856930697746698e-06,\n",
       " -1.695360882026373e-06,\n",
       " -1.7050245978761446e-06,\n",
       " -1.7146842421510197e-06,\n",
       " -1.7243398393789055e-06,\n",
       " -1.7339914137939567e-06,\n",
       " -1.7436389893418216e-06,\n",
       " -1.7532825896847629e-06,\n",
       " -1.7629222382066581e-06,\n",
       " -1.772557958017885e-06,\n",
       " -1.7821897719600919e-06,\n",
       " -1.791817702610856e-06,\n",
       " -1.8014417722882389e-06,\n",
       " -1.8110620030552342e-06,\n",
       " -1.8206784167241152e-06,\n",
       " -1.8302910348606856e-06,\n",
       " -1.8398998787884322e-06,\n",
       " -1.8495049695925867e-06,\n",
       " -1.859106328124097e-06,\n",
       " -1.8687039750035113e-06,\n",
       " -1.8782979306247725e-06,\n",
       " -1.8878882151589384e-06,\n",
       " -1.8974748485578096e-06,\n",
       " -1.9070578505574914e-06,\n",
       " -1.916637240681869e-06,\n",
       " -1.9262130382460118e-06,\n",
       " -1.935785262359507e-06,\n",
       " -1.9453539319297227e-06,\n",
       " -1.9549190656649977e-06,\n",
       " -1.9644806820777708e-06,\n",
       " -1.9740387994876376e-06,\n",
       " -1.983593436024354e-06,\n",
       " -1.9931446096307655e-06,\n",
       " -2.0026923380656885e-06,\n",
       " -2.0122366389067235e-06,\n",
       " -2.021777529553016e-06,\n",
       " -2.03131502722796e-06,\n",
       " -2.0408491489818492e-06,\n",
       " -2.05037991169447e-06,\n",
       " -2.0599073320776504e-06,\n",
       " -2.0694314266777516e-06,\n",
       " -2.078952211878115e-06,\n",
       " -2.088469703901459e-06,\n",
       " -2.097983918812231e-06,\n",
       " -2.107494872518907e-06,\n",
       " -2.117002580776261e-06,\n",
       " -2.1265070591875744e-06,\n",
       " -2.1360083232068134e-06,\n",
       " -2.1455063881407615e-06,\n",
       " -2.1550012691511136e-06,\n",
       " -2.1644929812565274e-06,\n",
       " -2.17398153933464e-06,\n",
       " -2.1834669581240418e-06,\n",
       " -2.192949252226219e-06,\n",
       " -2.202428436107458e-06,\n",
       " -2.2119045241007146e-06,\n",
       " -2.2213775304074458e-06,\n",
       " -2.2308474690994163e-06,\n",
       " -2.2403143541204622e-06,\n",
       " -2.2497781992882308e-06,\n",
       " -2.2592390182958853e-06,\n",
       " -2.2686968247137768e-06,\n",
       " -2.2781516319910942e-06,\n",
       " -2.2876034534574745e-06,\n",
       " -2.297052302324594e-06,\n",
       " -2.306498191687724e-06,\n",
       " -2.3159411345272645e-06,\n",
       " -2.3253811437102487e-06,\n",
       " -2.3348182319918208e-06,\n",
       " -2.34425241201669e-06,\n",
       " -2.3536836963205585e-06,\n",
       " -2.3631120973315258e-06,\n",
       " -2.372537627371465e-06,\n",
       " -2.3819602986573844e-06,\n",
       " -2.3913801233027542e-06,\n",
       " -2.4007971133188223e-06,\n",
       " -2.4102112806159006e-06,\n",
       " -2.4196226370046315e-06,\n",
       " -2.4290311941972357e-06,\n",
       " -2.438436963808734e-06,\n",
       " -2.447839957358157e-06,\n",
       " -2.457240186269727e-06,\n",
       " -2.4666376618740223e-06,\n",
       " -2.476032395409129e-06,\n",
       " -2.485424398021764e-06,\n",
       " -2.4948136807683862e-06,\n",
       " -2.5042002546162905e-06,\n",
       " -2.5135841304446785e-06,\n",
       " -2.5229653190457194e-06,\n",
       " -2.5323438311255868e-06,\n",
       " -2.5417196773054853e-06,\n",
       " -2.551092868122654e-06,\n",
       " -2.560463414031365e-06,\n",
       " -2.569831325403892e-06,\n",
       " -2.5791966125314765e-06,\n",
       " -2.588559285625272e-06,\n",
       " -2.597919354817273e-06,\n",
       " -2.6072768301612383e-06,\n",
       " -2.6166317216335847e-06,\n",
       " -2.625984039134284e-06,\n",
       " -2.635333792487733e-06,\n",
       " -2.6446809914436204e-06,\n",
       " -2.6540256456777704e-06,\n",
       " -2.663367764792983e-06,\n",
       " -2.6727073583198562e-06,\n",
       " -2.6820444357175964e-06,\n",
       " -2.691379006374819e-06,\n",
       " -2.700711079610335e-06,\n",
       " -2.7100406646739274e-06,\n",
       " -2.7193677707471126e-06,\n",
       " -2.7286924069438975e-06,\n",
       " -2.7380145823115184e-06,\n",
       " -2.7473343058311724e-06,\n",
       " -2.75665158641874e-06,\n",
       " -2.7659664329254924e-06,\n",
       " -2.7752788541387907e-06,\n",
       " -2.78458885878278e-06,\n",
       " -2.793896455519065e-06,\n",
       " -2.8032016529473815e-06,\n",
       " -2.8125044596062557e-06,\n",
       " -2.8218048839736583e-06,\n",
       " -2.8311029344676436e-06,\n",
       " -2.8403986194469845e-06,\n",
       " -2.849691947211794e-06,\n",
       " -2.858982926004143e-06,\n",
       " -2.868271564008665e-06,\n",
       " -2.877557869353157e-06,\n",
       " -2.886841850109166e-06,\n",
       " -2.896123514292575e-06,\n",
       " -2.9054028698641725e-06,\n",
       " -2.9146799247302223e-06,\n",
       " -2.92395468674302e-06,\n",
       " -2.933227163701443e-06,\n",
       " -2.942497363351495e-06,\n",
       " -2.951765293386842e-06,\n",
       " -2.9610309614493405e-06,\n",
       " -2.9702943751295586e-06,\n",
       " -2.9795555419672915e-06,\n",
       " -2.988814469452068e-06,\n",
       " -2.9980711650236534e-06,\n",
       " -3.0073256360725427e-06,\n",
       " -3.016577889940447e-06,\n",
       " -3.0258279339207777e-06,\n",
       " -3.035075775259121e-06,\n",
       " -3.044321421153704e-06,\n",
       " -3.0535648787558606e-06,\n",
       " -3.0628061551704892e-06,\n",
       " -3.0720452574564967e-06,\n",
       " -3.081282192627253e-06,\n",
       " -3.0905169676510237e-06,\n",
       " -3.0997495894514067e-06,\n",
       " -3.108980064907758e-06,\n",
       " -3.1182084008556172e-06,\n",
       " -3.127434604087123e-06,\n",
       " -3.136658681351426e-06,\n",
       " -3.145880639355093e-06,\n",
       " -3.155100484762514e-06,\n",
       " -3.1643182241962943e-06,\n",
       " -3.173533864237647e-06,\n",
       " -3.182747411426783e-06,\n",
       " -3.1919588722632887e-06,\n",
       " -3.2011682532065044e-06,\n",
       " -3.2103755606758985e-06,\n",
       " -3.2195808010514367e-06,\n",
       " -3.228783980673941e-06,\n",
       " -3.2379851058454535e-06,\n",
       " -3.2471841828295858e-06,\n",
       " -3.2563812178518765e-06,\n",
       " -3.265576217100131e-06,\n",
       " -3.2747691867247678e-06,\n",
       " -3.2839601328391526e-06,\n",
       " -3.293149061519934e-06,\n",
       " -3.302335978807376e-06,\n",
       " -3.311520890705679e-06,\n",
       " -3.3207038031833036e-06,\n",
       " -3.3298847221732893e-06,\n",
       " -3.3390636535735714e-06,\n",
       " -3.3482406032472845e-06,\n",
       " -3.357415577023077e-06,\n",
       " -3.3665885806954117e-06,\n",
       " -3.375759620024863e-06,\n",
       " -3.3849287007384182e-06,\n",
       " -3.394095828529769e-06,\n",
       " -3.403261009059595e-06,\n",
       " -3.4124242479558603e-06,\n",
       " -3.4215855508140887e-06,\n",
       " -3.4307449231976454e-06,\n",
       " -3.439902370638015e-06,\n",
       " -3.4490578986350724e-06,\n",
       " -3.4582115126573535e-06,\n",
       " -3.467363218142326e-06,\n",
       " -3.4765130204966454e-06,\n",
       " -3.4856609250964258e-06,\n",
       " -3.494806937287489e-06,\n",
       " -3.5039510623856282e-06,\n",
       " -3.5130933056768514e-06,\n",
       " -3.5222336724176403e-06,\n",
       " -3.53137216783519e-06,\n",
       " -3.540508797127655e-06,\n",
       " -3.549643565464393e-06,\n",
       " -3.5587764779861994e-06,\n",
       " -3.5679075398055483e-06,\n",
       " -3.57703675600682e-06,\n",
       " -3.586164131646538e-06,\n",
       " -3.5952896717535917e-06,\n",
       " -3.6044133813294673e-06,\n",
       " -3.6135352653484665e-06,\n",
       " -3.622655328757934e-06,\n",
       " -3.6317735764784673e-06,\n",
       " -3.6408900134041396e-06,\n",
       " -3.6500046444027135e-06,\n",
       " -3.6591174743158487e-06,\n",
       " -3.6682285079593123e-06,\n",
       " -3.6773377501231923e-06,\n",
       " -3.6864452055720915e-06,\n",
       " -3.6955508790453396e-06,\n",
       " -3.7046547752571908e-06,\n",
       " -3.7137568988970202e-06,\n",
       " -3.722857254629522e-06,\n",
       " -3.731955847094904e-06,\n",
       " -3.7410526809090814e-06,\n",
       " -3.7501477606638616e-06,\n",
       " -3.7592410909271395e-06,\n",
       " -3.7683326762430798e-06,\n",
       " -3.7774225211323014e-06,\n",
       " -3.7865106300920614e-06,\n",
       " -3.7955970075964344e-06,\n",
       " -3.8046816580964926e-06,\n",
       " -3.8137645860204833e-06,\n",
       " -3.822845795774e-06,\n",
       " -3.831925291740161e-06,\n",
       " -3.841003078279777e-06,\n",
       " -3.850079159731524e-06,\n",
       " -3.859153540412109e-06,\n",
       " -3.868226224616438e-06,\n",
       " -3.877297216617778e-06,\n",
       " -3.8863665206679256e-06,\n",
       " -3.895434140997363e-06,\n",
       " -3.904500081815419e-06,\n",
       " -3.913564347310433e-06,\n",
       " -3.9226269416498985e-06,\n",
       " -3.931687868980636e-06,\n",
       " -3.940747133428928e-06,\n",
       " -3.949804739100689e-06,\n",
       " -3.9588606900816e-06,\n",
       " -3.967914990437269e-06,\n",
       " -3.976967644213374e-06,\n",
       " -3.986018655435807e-06,\n",
       " -3.9950680281108255e-06,\n",
       " -4.00411576622519e-06,\n",
       " -4.013161873746305e-06,\n",
       " -4.022206354622366e-06,\n",
       " -4.031249212782494e-06,\n",
       " -4.040290452136875e-06,\n",
       " -4.049330076576894e-06,\n",
       " -4.0583680899752735e-06,\n",
       " -4.067404496186208e-06,\n",
       " -4.076439299045491e-06,\n",
       " -4.08547250237065e-06,\n",
       " -4.094504109961085e-06,\n",
       " -4.1035341255981795e-06,\n",
       " -4.112562553045441e-06,\n",
       " -4.1215893960486296e-06,\n",
       " -4.130614658335869e-06,\n",
       " -4.13963834361779e-06,\n",
       " -4.148660455587637e-06,\n",
       " -4.157680997921395e-06,\n",
       " -4.166699974277917e-06,\n",
       " -4.175717388299035e-06,\n",
       " -4.184733243609682e-06,\n",
       " -4.1937475438180055e-06,\n",
       " -4.2027602925154934e-06,\n",
       " -4.211771493277078e-06,\n",
       " -4.220781149661257e-06,\n",
       " -4.2297892652102065e-06,\n",
       " -4.238795843449886e-06,\n",
       " -4.2478008878901585e-06,\n",
       " -4.256804402024899e-06,\n",
       " -4.265806389332095e-06,\n",
       " -4.274806853273964e-06,\n",
       " -4.28380579729706e-06,\n",
       " -4.292803224832371e-06,\n",
       " -4.301799139295436e-06,\n",
       " -4.3107935440864395e-06,\n",
       " -4.3197864425903196e-06,\n",
       " -4.3287778381768675e-06,\n",
       " -4.337767734200834e-06,\n",
       " -4.346756134002026e-06,\n",
       " -4.355743040905403e-06,\n",
       " -4.364728458221184e-06,\n",
       " -4.373712389244939e-06,\n",
       " -4.382694837257688e-06,\n",
       " -4.391675805525997e-06,\n",
       " -4.400655297302076e-06,\n",
       " -4.409633315823865e-06,\n",
       " -4.41860986431514e-06,\n",
       " -4.427584945985597e-06,\n",
       " -4.436558564030945e-06,\n",
       " -4.445530721632998e-06,\n",
       " -4.45450142195977e-06,\n",
       " -4.463470668165557e-06,\n",
       " -4.472438463391029e-06,\n",
       " -4.481404810763326e-06,\n",
       " -4.490369713396125e-06,\n",
       " -4.499333174389752e-06,\n",
       " -4.508295196831246e-06,\n",
       " -4.517255783794461e-06,\n",
       " -4.526214938340136e-06,\n",
       " -4.535172663515993e-06,\n",
       " -4.544128962356805e-06,\n",
       " -4.5530838378844915e-06,\n",
       " -4.562037293108189e-06,\n",
       " -4.570989331024344e-06,\n",
       " -4.579939954616778e-06,\n",
       " -4.588889166856783e-06,\n",
       " -4.597836970703191e-06,\n",
       " -4.606783369102449e-06,\n",
       " -4.6157283649887065e-06,\n",
       " -4.624671961283886e-06,\n",
       " -4.63361416089776e-06,\n",
       " -4.642554966728029e-06,\n",
       " -4.651494381660392e-06,\n",
       " -4.660432408568625e-06,\n",
       " -4.669369050314654e-06,\n",
       " -4.678304309748627e-06,\n",
       " -4.687238189708986e-06,\n",
       " -4.6961706930225424e-06,\n",
       " -4.705101822504544e-06,\n",
       " -4.714031580958747e-06,\n",
       " -4.722959971177489e-06,\n",
       " -4.731886995941756e-06,\n",
       " -4.7408126580212524e-06,\n",
       " -4.749736960174468e-06,\n",
       " -4.758659905148748e-06,\n",
       " -4.767581495680359e-06,\n",
       " -4.7765017344945585e-06,\n",
       " -4.785420624305656e-06,\n",
       " -4.7943381678170845e-06,\n",
       " -4.8032543677214616e-06,\n",
       " -4.812169226700657e-06,\n",
       " -4.821082747425855e-06,\n",
       " -4.829994932557619e-06,\n",
       " -4.838905784745955e-06,\n",
       " -4.847815306630374e-06,\n",
       " -4.856723500839952e-06,\n",
       " -4.865630369993397e-06,\n",
       " -4.874535916699106e-06,\n",
       " -4.883440143555226e-06,\n",
       " -4.8923430531497156e-06,\n",
       " -4.901244648060405e-06,\n",
       " -4.9101449308550534e-06,\n",
       " -4.919043904091411e-06,\n",
       " -4.927941570317274e-06,\n",
       " -4.936837932070544e-06,\n",
       " -4.9457329918792895e-06,\n",
       " -4.954626752261793e-06,\n",
       " -4.963519215726621e-06,\n",
       " -4.972410384772666e-06,\n",
       " -4.981300261889214e-06,\n",
       " -4.990188849555994e-06,\n",
       " -4.999076150243234e-06,\n",
       " -5.007962166411714e-06,\n",
       " -5.016846900512828e-06,\n",
       " -5.025730354988621e-06,\n",
       " -5.03461253227186e-06,\n",
       " -5.0434934347860785e-06,\n",
       " -5.05237306494563e-06,\n",
       " -5.061251425155737e-06,\n",
       " -5.070128517812549e-06,\n",
       " -5.079004345303189e-06,\n",
       " -5.0878789100058055e-06,\n",
       " -5.096752214289624e-06,\n",
       " -5.105624260515e-06,\n",
       " -5.114495051033455e-06,\n",
       " -5.123364588187747e-06,\n",
       " -5.132232874311905e-06,\n",
       " -5.141099911731278e-06,\n",
       " -5.149965702762591e-06,\n",
       " -5.158830249713987e-06,\n",
       " -5.167693554885075e-06,\n",
       " -5.1765556205669785e-06,\n",
       " -5.185416449042386e-06,\n",
       " -5.194276042585587e-06,\n",
       " -5.2031344034625306e-06,\n",
       " -5.211991533930865e-06,\n",
       " -5.220847436239982e-06,\n",
       " -5.2297021126310625e-06,\n",
       " -5.238555565337124e-06,\n",
       " -5.247407796583069e-06,\n",
       " -5.256258808585717e-06,\n",
       " -5.2651086035538585e-06,\n",
       " -5.273957183688295e-06,\n",
       " -5.282804551181884e-06,\n",
       " -5.291650708219581e-06,\n",
       " -5.300495656978479e-06,\n",
       " -5.309339399627856e-06,\n",
       " -5.318181938329216e-06,\n",
       " -5.327023275236327e-06,\n",
       " -5.335863412495267e-06,\n",
       " -5.344702352244461e-06,\n",
       " -5.353540096614725e-06,\n",
       " -5.362376647729305e-06,\n",
       " -5.37121200770392e-06,\n",
       " -5.380046178646799e-06,\n",
       " -5.388879162658716e-06,\n",
       " -5.3977109618330445e-06,\n",
       " -5.406541578255776e-06,\n",
       " -5.41537101400558e-06,\n",
       " -5.424199271153828e-06,\n",
       " -5.433026351764633e-06,\n",
       " -5.4418522578948965e-06,\n",
       " -5.450676991594337e-06,\n",
       " -5.459500554905533e-06,\n",
       " -5.468322949863958e-06,\n",
       " -5.477144178498014e-06,\n",
       " -5.485964242829081e-06,\n",
       " -5.494783144871534e-06,\n",
       " -5.5036008866328e-06,\n",
       " -5.5124174701133745e-06,\n",
       " -5.521232897306874e-06,\n",
       " -5.530047170200059e-06,\n",
       " -5.538860290772878e-06,\n",
       " -5.547672260998494e-06,\n",
       " -5.556483082843332e-06,\n",
       " -5.5652927582670975e-06,\n",
       " -5.574101289222825e-06,\n",
       " -5.5829086776569016e-06,\n",
       " -5.591714925509108e-06,\n",
       " -5.600520034712648e-06,\n",
       " -5.609324007194183e-06,\n",
       " -5.618126844873869e-06,\n",
       " -5.6269285496653795e-06,\n",
       " -5.63572912347595e-06,\n",
       " -5.644528568206404e-06,\n",
       " -5.653326885751185e-06,\n",
       " -5.6621240779983905e-06,\n",
       " -5.670920146829804e-06,\n",
       " -5.679715094120922e-06,\n",
       " -5.688508921740998e-06,\n",
       " -5.697301631553057e-06,\n",
       " -5.706093225413937e-06,\n",
       " -5.7148837051743175e-06,\n",
       " -5.723673072678751e-06,\n",
       " -5.73246132976569e-06,\n",
       " -5.7412484782675236e-06,\n",
       " -5.750034520010597e-06,\n",
       " -5.7588194568152515e-06,\n",
       " -5.767603290495851e-06,\n",
       " -5.77638602286081e-06,\n",
       " -5.785167655712623e-06,\n",
       " -5.793948190847893e-06,\n",
       " -5.8027276300573645e-06,\n",
       " -5.811505975125945e-06,\n",
       " -5.820283227832738e-06,\n",
       " -5.829059389951073e-06,\n",
       " -5.837834463248533e-06,\n",
       " -5.846608449486973e-06,\n",
       " -5.855381350422565e-06,\n",
       " -5.864153167805807e-06,\n",
       " -5.8729239033815664e-06,\n",
       " -5.881693558889095e-06,\n",
       " -5.890462136062064e-06,\n",
       " -5.89922963662859e-06,\n",
       " -5.907996062311253e-06,\n",
       " -5.916761414827133e-06,\n",
       " -5.925525695887835e-06,\n",
       " -5.934288907199515e-06,\n",
       " -5.943051050462893e-06,\n",
       " -5.951812127373303e-06,\n",
       " -5.960572139620695e-06,\n",
       " -5.969331088889681e-06,\n",
       " -5.978088976859539e-06,\n",
       " -5.9868458052042595e-06,\n",
       " -5.995601575592558e-06,\n",
       " -6.004356289687896e-06,\n",
       " -6.0131099491485235e-06,\n",
       " -6.021862555627483e-06,\n",
       " -6.030614110772646e-06,\n",
       " -6.0393646162267335e-06,\n",
       " -6.048114073627346e-06,\n",
       " -6.056862484606975e-06,\n",
       " -6.065609850793039e-06,\n",
       " -6.074356173807903e-06,\n",
       " -6.083101455268898e-06,\n",
       " -6.09184569678835e-06,\n",
       " -6.100588899973598e-06,\n",
       " -6.109331066427024e-06,\n",
       " -6.118072197746072e-06,\n",
       " -6.126812295523268e-06,\n",
       " -6.135551361346248e-06,\n",
       " -6.1442893967977744e-06,\n",
       " -6.153026403455765e-06,\n",
       " -6.161762382893312e-06,\n",
       " -6.170497336678702e-06,\n",
       " -6.179231266375445e-06,\n",
       " -6.187964173542283e-06,\n",
       " -6.19669605973323e-06,\n",
       " -6.205426926497578e-06,\n",
       " -6.214156775379925e-06,\n",
       " -6.222885607920195e-06,\n",
       " -6.231613425653663e-06,\n",
       " -6.240340230110967e-06,\n",
       " -6.24906602281814e-06,\n",
       " -6.25779080529662e-06,\n",
       " -6.266514579063284e-06,\n",
       " -6.275237345630453e-06,\n",
       " -6.283959106505924e-06,\n",
       " -6.292679863192984e-06,\n",
       " -6.301399617190435e-06,\n",
       " -6.3101183699926125e-06,\n",
       " -6.318836123089399e-06,\n",
       " -6.327552877966256e-06,\n",
       " -6.336268636104232e-06,\n",
       " -6.3449833989799895e-06,\n",
       " -6.353697168065824e-06,\n",
       " -6.362409944829679e-06,\n",
       " -6.371121730735167e-06,\n",
       " -6.379832527241593e-06,\n",
       " -6.388542335803964e-06,\n",
       " -6.397251157873022e-06,\n",
       " -6.405958994895247e-06,\n",
       " -6.414665848312887e-06,\n",
       " -6.423371719563973e-06,\n",
       " -6.432076610082337e-06,\n",
       " -6.440780521297629e-06,\n",
       " -6.44948345463534e-06,\n",
       " -6.458185411516816e-06,\n",
       " -6.466886393359275e-06,\n",
       " -6.475586401575829e-06,\n",
       " -6.4842854375755e-06,\n",
       " -6.492983502763239e-06,\n",
       " -6.5016805985399395e-06,\n",
       " -6.5103767263024585e-06,\n",
       " -6.519071887443636e-06,\n",
       " -6.527766083352304e-06,\n",
       " -6.536459315413316e-06,\n",
       " -6.545151585007552e-06,\n",
       " -6.553842893511946e-06,\n",
       " -6.5625332422994934e-06,\n",
       " -6.571222632739272e-06,\n",
       " -6.5799110661964655e-06,\n",
       " -6.588598544032366e-06,\n",
       " -6.597285067604401e-06,\n",
       " -6.60597063826615e-06,\n",
       " -6.614655257367357e-06,\n",
       " -6.623338926253943e-06,\n",
       " -6.632021646268032e-06,\n",
       " -6.6407034187479616e-06,\n",
       " -6.6493842450282966e-06,\n",
       " -6.65806412643985e-06,\n",
       " -6.666743064309696e-06,\n",
       " -6.6754210599611875e-06,\n",
       " -6.684098114713967e-06,\n",
       " -6.692774229883992e-06,\n",
       " -6.701449406783537e-06,\n",
       " -6.710123646721219e-06,\n",
       " -6.7187969510020104e-06,\n",
       " -6.7274693209272555e-06,\n",
       " -6.736140757794679e-06,\n",
       " -6.7448112628984095e-06,\n",
       " -6.753480837528989e-06,\n",
       " -6.7621494829733905e-06,\n",
       " -6.77081720051503e-06,\n",
       " -6.779483991433787e-06,\n",
       " -6.788149857006011e-06,\n",
       " -6.796814798504542e-06,\n",
       " -6.805478817198724e-06,\n",
       " -6.814141914354415e-06,\n",
       " -6.8228040912340105e-06,\n",
       " -6.831465349096448e-06,\n",
       " -6.840125689197226e-06,\n",
       " -6.848785112788418e-06,\n",
       " -6.857443621118686e-06,\n",
       " -6.866101215433292e-06,\n",
       " -6.87475789697412e-06,\n",
       " -6.883413666979674e-06,\n",
       " -6.892068526685112e-06,\n",
       " -6.900722477322245e-06,\n",
       " -6.909375520119551e-06,\n",
       " -6.918027656302198e-06,\n",
       " -6.926678887092049e-06,\n",
       " -6.9353292137076786e-06,\n",
       " -6.9439786373643845e-06,\n",
       " -6.952627159274205e-06,\n",
       " -6.961274780645924e-06,\n",
       " -6.969921502685092e-06,\n",
       " -6.978567326594039e-06,\n",
       " -6.98721225357188e-06,\n",
       " -6.995856284814531e-06,\n",
       " -7.00449942151473e-06,\n",
       " -7.013141664862035e-06,\n",
       " -7.021783016042853e-06,\n",
       " -7.0304234762404325e-06,\n",
       " -7.039063046634899e-06,\n",
       " -7.047701728403251e-06,\n",
       " -7.0563395227193754e-06,\n",
       " -7.064976430754066e-06,\n",
       " -7.07361245367503e-06,\n",
       " -7.082247592646899e-06,\n",
       " -7.090881848831246e-06,\n",
       " -7.099515223386597e-06,\n",
       " -7.108147717468439e-06,\n",
       " -7.116779332229233e-06,\n",
       " -7.1254100688184304e-06,\n",
       " -7.13403992838248e-06,\n",
       " -7.142668912064838e-06,\n",
       " -7.151297021005989e-06,\n",
       " -7.159924256343445e-06,\n",
       " -7.168550619211769e-06,\n",
       " -7.17717611074258e-06,\n",
       " -7.185800732064558e-06,\n",
       " -7.19442448430347e-06,\n",
       " -7.203047368582178e-06,\n",
       " -7.211669386020637e-06,\n",
       " -7.220290537735919e-06,\n",
       " -7.228910824842218e-06,\n",
       " -7.237530248450874e-06,\n",
       " -7.246148809670362e-06,\n",
       " -7.2547665096063205e-06,\n",
       " -7.263383349361553e-06,\n",
       " -7.271999330036049e-06,\n",
       " -7.28061445272698e-06,\n",
       " -7.289228718528725e-06,\n",
       " -7.297842128532872e-06,\n",
       " -7.306454683828234e-06,\n",
       " -7.315066385500851e-06,\n",
       " -7.323677234634015e-06,\n",
       " -7.332287232308265e-06,\n",
       " -7.340896379601407e-06,\n",
       " -7.349504677588524e-06,\n",
       " -7.358112127341977e-06,\n",
       " -7.366718729931435e-06,\n",
       " -7.375324486423858e-06,\n",
       " -7.383929397883532e-06,\n",
       " -7.392533465372067e-06,\n",
       " -7.401136689948405e-06,\n",
       " -7.409739072668838e-06,\n",
       " -7.418340614587014e-06,\n",
       " -7.426941316753942e-06,\n",
       " -7.4355411802180145e-06,\n",
       " -7.444140206025003e-06,\n",
       " -7.452738395218077e-06,\n",
       " -7.461335748837813e-06,\n",
       " -7.469932267922196e-06,\n",
       " -7.478527953506641e-06,\n",
       " -7.487122806623997e-06,\n",
       " -7.495716828304554e-06,\n",
       " -7.504310019576054e-06,\n",
       " -7.512902381463703e-06,\n",
       " -7.521493914990182e-06,\n",
       " -7.530084621175648e-06,\n",
       " -7.538674501037749e-06,\n",
       " -7.547263555591633e-06,\n",
       " -7.555851785849961e-06,\n",
       " -7.564439192822906e-06,\n",
       " -7.573025777518173e-06,\n",
       " -7.581611540941e-06,\n",
       " -7.59019648409417e-06,\n",
       " -7.598780607978023e-06,\n",
       " -7.607363913590457e-06,\n",
       " -7.61594640192695e-06,\n",
       " -7.624528073980556e-06,\n",
       " -7.633108930741915e-06,\n",
       " -7.641688973199274e-06,\n",
       " -7.65026820233848e-06,\n",
       " -7.658846619142998e-06,\n",
       " -7.667424224593918e-06,\n",
       " -7.676001019669967e-06,\n",
       " -7.684577005347505e-06,\n",
       " -7.693152182600547e-06,\n",
       " -7.701726552400767e-06,\n",
       " -7.710300115717507e-06,\n",
       " -7.718872873517782e-06,\n",
       " -7.727444826766292e-06,\n",
       " -7.736015976425429e-06,\n",
       " -7.744586323455283e-06,\n",
       " -7.753155868813655e-06,\n",
       " -7.761724613456066e-06,\n",
       " -7.770292558335756e-06,\n",
       " -7.7788597044037e-06,\n",
       " -7.787426052608615e-06,\n",
       " -7.79599160389697e-06,\n",
       " -7.804556359212981e-06,\n",
       " -7.813120319498645e-06,\n",
       " -7.821683485693715e-06,\n",
       " -7.830245858735739e-06,\n",
       " -7.838807439560048e-06,\n",
       " -7.847368229099766e-06,\n",
       " -7.855928228285827e-06,\n",
       " -7.864487438046977e-06,\n",
       " -7.873045859309777e-06,\n",
       " -7.881603492998621e-06,\n",
       " -7.890160340035735e-06,\n",
       " -7.898716401341188e-06,\n",
       " -7.907271677832902e-06,\n",
       " -7.915826170426652e-06,\n",
       " -7.92437988003608e-06,\n",
       " -7.932932807572705e-06,\n",
       " -7.941484953945922e-06,\n",
       " -7.950036320063014e-06,\n",
       " -7.95858690682916e-06,\n",
       " -7.967136715147438e-06,\n",
       " -7.975685745918843e-06,\n",
       " -7.984234000042279e-06,\n",
       " -7.992781478414575e-06,\n",
       " -8.001328181930497e-06,\n",
       " -8.009874111482746e-06,\n",
       " -8.018419267961962e-06,\n",
       " -8.02696365225675e-06,\n",
       " -8.035507265253669e-06,\n",
       " -8.044050107837235e-06,\n",
       " -8.052592180889954e-06,\n",
       " -8.061133485292303e-06,\n",
       " -8.069674021922746e-06,\n",
       " -8.078213791657749e-06,\n",
       " -8.086752795371766e-06,\n",
       " -8.095291033937274e-06,\n",
       " -8.103828508224756e-06,\n",
       " -8.112365219102715e-06,\n",
       " -8.120901167437692e-06,\n",
       " -8.12943635409425e-06,\n",
       " -8.137970779935006e-06,\n",
       " -8.146504445820618e-06,\n",
       " -8.155037352609801e-06,\n",
       " -8.163569501159331e-06,\n",
       " -8.172100892324054e-06,\n",
       " -8.180631526956888e-06,\n",
       " -8.189161405908838e-06,\n",
       " -8.197690530028985e-06,\n",
       " -8.206218900164517e-06,\n",
       " -8.214746517160711e-06,\n",
       " -8.223273381860966e-06,\n",
       " -8.231799495106775e-06,\n",
       " -8.240324857737767e-06,\n",
       " -8.248849470591689e-06,\n",
       " -8.257373334504417e-06,\n",
       " -8.265896450309976e-06,\n",
       " -8.274418818840525e-06,\n",
       " -8.28294044092638e-06,\n",
       " -8.291461317396012e-06,\n",
       " -8.299981449076052e-06,\n",
       " -8.308500836791308e-06,\n",
       " -8.317019481364755e-06,\n",
       " -8.325537383617554e-06,\n",
       " -8.33405454436905e-06,\n",
       " -8.342570964436784e-06,\n",
       " -8.351086644636497e-06,\n",
       " -8.359601585782131e-06,\n",
       " -8.368115788685843e-06,\n",
       " -8.376629254158007e-06,\n",
       " -8.385141983007217e-06,\n",
       " -8.393653976040297e-06,\n",
       " -8.402165234062308e-06,\n",
       " -8.410675757876545e-06,\n",
       " -8.419185548284555e-06,\n",
       " -8.427694606086139e-06,\n",
       " -8.436202932079346e-06,\n",
       " -8.444710527060495e-06,\n",
       " -8.453217391824172e-06,\n",
       " -8.461723527163244e-06,\n",
       " -8.470228933868843e-06,\n",
       " -8.478733612730404e-06,\n",
       " -8.48723756453564e-06,\n",
       " -8.495740790070566e-06,\n",
       " -8.504243290119503e-06,\n",
       " -8.512745065465073e-06,\n",
       " -8.521246116888217e-06,\n",
       " -8.52974644516819e-06,\n",
       " -8.538246051082577e-06,\n",
       " -8.546744935407286e-06,\n",
       " -8.555243098916562e-06,\n",
       " -8.563740542382992e-06,\n",
       " -8.57223726657751e-06,\n",
       " -8.580733272269397e-06,\n",
       " -8.589228560226293e-06,\n",
       " -8.5977231312142e-06,\n",
       " -8.606216985997479e-06,\n",
       " -8.614710125338877e-06,\n",
       " -8.623202549999507e-06,\n",
       " -8.631694260738868e-06,\n",
       " -8.640185258314845e-06,\n",
       " -8.64867554348372e-06,\n",
       " -8.657165117000166e-06,\n",
       " -8.665653979617265e-06,\n",
       " -8.674142132086501e-06,\n",
       " -8.68262957515778e-06,\n",
       " -8.691116309579413e-06,\n",
       " -8.699602336098145e-06,\n",
       " -8.708087655459145e-06,\n",
       " -8.716572268406012e-06,\n",
       " -8.72505617568079e-06,\n",
       " -8.733539378023956e-06,\n",
       " -8.742021876174444e-06,\n",
       " -8.750503670869635e-06,\n",
       " -8.758984762845368e-06,\n",
       " -8.767465152835948e-06,\n",
       " -8.77594484157414e-06,\n",
       " -8.784423829791188e-06,\n",
       " -8.792902118216808e-06,\n",
       " -8.801379707579196e-06,\n",
       " -8.809856598605041e-06,\n",
       " -8.818332792019517e-06,\n",
       " -8.826808288546297e-06,\n",
       " -8.835283088907548e-06,\n",
       " -8.843757193823948e-06,\n",
       " -8.852230604014685e-06,\n",
       " -8.860703320197453e-06,\n",
       " -8.869175343088477e-06,\n",
       " -8.877646673402491e-06,\n",
       " -8.886117311852772e-06,\n",
       " -8.894587259151117e-06,\n",
       " -8.903056516007866e-06,\n",
       " -8.911525083131899e-06,\n",
       " -8.91999296123064e-06,\n",
       " -8.928460151010067e-06,\n",
       " -8.93692665317471e-06,\n",
       " -8.94539246842766e-06,\n",
       " -8.953857597470574e-06,\n",
       " -8.96232204100367e-06,\n",
       " -8.97078579972574e-06,\n",
       " -8.979248874334163e-06,\n",
       " -8.987711265524882e-06,\n",
       " -8.996172973992444e-06,\n",
       " -9.004634000429969e-06,\n",
       " -9.013094345529185e-06,\n",
       " -9.021554009980407e-06,\n",
       " -9.03001299447256e-06,\n",
       " -9.038471299693173e-06,\n",
       " -9.046928926328385e-06,\n",
       " -9.055385875062952e-06,\n",
       " -9.063842146580252e-06,\n",
       " -9.072297741562281e-06,\n",
       " -9.080752660689666e-06,\n",
       " -9.089206904641666e-06,\n",
       " -9.097660474096174e-06,\n",
       " -9.106113369729727e-06]"
      ]
     },
     "execution_count": 109,
     "metadata": {},
     "output_type": "execute_result"
    }
   ],
   "source": [
    "epsilon32_losses"
   ]
  }
 ],
 "metadata": {
  "kernelspec": {
   "display_name": ".venv",
   "language": "python",
   "name": "python3"
  },
  "language_info": {
   "codemirror_mode": {
    "name": "ipython",
    "version": 3
   },
   "file_extension": ".py",
   "mimetype": "text/x-python",
   "name": "python",
   "nbconvert_exporter": "python",
   "pygments_lexer": "ipython3",
   "version": "3.13.3"
  }
 },
 "nbformat": 4,
 "nbformat_minor": 5
}
