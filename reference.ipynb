{
 "cells": [
  {
   "cell_type": "markdown",
   "id": "36c65915",
   "metadata": {},
   "source": [
    "# Algorithms\n",
    "\n",
    "This is Algorithm 1."
   ]
  },
  {
   "cell_type": "code",
   "execution_count": 195,
   "id": "8f2f9963",
   "metadata": {},
   "outputs": [],
   "source": [
    "def combine(U_n, n, U_m, m):\n",
    "    U_nm = U_n * m + U_m\n",
    "    nm = n*m\n",
    "    return U_nm, nm"
   ]
  },
  {
   "cell_type": "code",
   "execution_count": 196,
   "id": "988b2d65",
   "metadata": {},
   "outputs": [],
   "source": [
    "def divide(U_nm, nm, n):\n",
    "    U_m = U_nm // n\n",
    "    U_n = U_nm % n\n",
    "    m = nm // n\n",
    "    return U_m, m, U_n"
   ]
  },
  {
   "cell_type": "code",
   "execution_count": 197,
   "id": "82706e22",
   "metadata": {},
   "outputs": [],
   "source": [
    "def sample(U_n, n, m):\n",
    "    if U_n < m:\n",
    "        B = 1\n",
    "        x = m\n",
    "        U_x = U_n\n",
    "    else:\n",
    "        B = 0\n",
    "        x = n-m\n",
    "        U_x = U_n - m\n",
    "    return U_x, x, B"
   ]
  },
  {
   "cell_type": "code",
   "execution_count": 198,
   "id": "e10869dd",
   "metadata": {},
   "outputs": [],
   "source": [
    "def expand(U_x, B, m):\n",
    "    U_n = (1-B)*m + U_x\n",
    "    return U_n"
   ]
  },
  {
   "cell_type": "code",
   "execution_count": 199,
   "id": "fe90e6cd",
   "metadata": {},
   "outputs": [],
   "source": [
    "import random\n",
    "\n",
    "def fetch():\n",
    "    return random.randint(0,1)\n",
    "\n",
    "def generate_uniform(U_s, s, n, N):\n",
    "    while True:\n",
    "        while s < N:\n",
    "            U_s, s = combine(U_s, s, fetch(), 2)\n",
    "        U_s, s, b = sample(U_s, s,s%n)\n",
    "        if not b:\n",
    "            U_s, s, U_n = divide(U_s, s, n)\n",
    "            return U_s, s, U_n"
   ]
  },
  {
   "cell_type": "code",
   "execution_count": 200,
   "id": "985ea6c0",
   "metadata": {},
   "outputs": [],
   "source": [
    "def generate_bernoulli(U_s, s, m, n, N):\n",
    "    U_s, s, U_n = generate_uniform(U_s, s, n, N)\n",
    "    U_x, x, B = sample(U_n, n, m)\n",
    "    U_s, s = combine(U_s, s, U_x, x)\n",
    "    return U_s, s, B"
   ]
  },
  {
   "cell_type": "code",
   "execution_count": 201,
   "id": "7d7c8201",
   "metadata": {},
   "outputs": [],
   "source": [
    "def make_distribution(weights):\n",
    "    outputs = []\n",
    "    offsets = []\n",
    "    for i, w_i in enumerate(weights):\n",
    "        offsets = offsets + [len(outputs)]\n",
    "        outputs = outputs + [i]*w_i\n",
    "    return outputs, offsets"
   ]
  },
  {
   "cell_type": "markdown",
   "id": "c748a9c0",
   "metadata": {},
   "source": [
    "TODO: This does not matcj the paper\n",
    "\n",
    "TODO: document the output $x$"
   ]
  },
  {
   "cell_type": "code",
   "execution_count": 202,
   "id": "481415be",
   "metadata": {},
   "outputs": [],
   "source": [
    "def generate_distribution(U_s, s, N, weights, outputs, offsets):\n",
    "    n = len(outputs)\n",
    "    U_s, s, U_n = generate_uniform(U_s, s, n, N)\n",
    "    i = outputs[U_n]\n",
    "    U_s, s = combine(U_s, s, U_n - offsets[i], weights[i])\n",
    "    return U_s, s, i"
   ]
  },
  {
   "cell_type": "markdown",
   "id": "afe60298",
   "metadata": {},
   "source": [
    "# Testing"
   ]
  },
  {
   "cell_type": "code",
   "execution_count": 203,
   "id": "4b60816d",
   "metadata": {},
   "outputs": [
    {
     "data": {
      "text/plain": [
       "5"
      ]
     },
     "execution_count": 203,
     "metadata": {},
     "output_type": "execute_result"
    }
   ],
   "source": [
    "U_s = 0\n",
    "s = 1\n",
    "N = 1<<31\n",
    "\n",
    "U_s, s, U_n = generate_uniform(U_s, s, 6, N)\n",
    "\n",
    "U_n"
   ]
  },
  {
   "cell_type": "code",
   "execution_count": 204,
   "id": "861fb5fe",
   "metadata": {},
   "outputs": [
    {
     "data": {
      "text/plain": [
       "1"
      ]
     },
     "execution_count": 204,
     "metadata": {},
     "output_type": "execute_result"
    }
   ],
   "source": [
    "U_s, s, B = generate_bernoulli(U_s, s, 1, 2, N)\n",
    "B"
   ]
  },
  {
   "cell_type": "code",
   "execution_count": 205,
   "id": "12138e0e",
   "metadata": {},
   "outputs": [
    {
     "name": "stdout",
     "output_type": "stream",
     "text": [
      "[80, 19]\n"
     ]
    }
   ],
   "source": [
    "counts = [0,0]\n",
    "for i in range(1,100):\n",
    "    U_s, s, B = generate_bernoulli(U_s, s, 1, 6, N)\n",
    "    counts[B] += 1\n",
    "\n",
    "print(counts)"
   ]
  },
  {
   "cell_type": "code",
   "execution_count": 206,
   "id": "1f754ac8",
   "metadata": {},
   "outputs": [
    {
     "data": {
      "text/plain": [
       "([0, 1, 1, 2, 2, 2], [0, 1, 3])"
      ]
     },
     "execution_count": 206,
     "metadata": {},
     "output_type": "execute_result"
    }
   ],
   "source": [
    "make_distribution([1,2,3])"
   ]
  },
  {
   "cell_type": "code",
   "execution_count": 207,
   "id": "1552cddf",
   "metadata": {},
   "outputs": [
    {
     "data": {
      "text/plain": [
       "2"
      ]
     },
     "execution_count": 207,
     "metadata": {},
     "output_type": "execute_result"
    }
   ],
   "source": [
    "weights = [1,2,3]\n",
    "outputs, offsets = make_distribution(weights)\n",
    "U_s, s, x = generate_distribution(U_s, s, N, weights, outputs, offsets)\n",
    "\n",
    "x"
   ]
  },
  {
   "cell_type": "code",
   "execution_count": 208,
   "id": "681d4d73",
   "metadata": {},
   "outputs": [
    {
     "name": "stdout",
     "output_type": "stream",
     "text": [
      "[18, 29, 52]\n"
     ]
    }
   ],
   "source": [
    "counts = [0,0,0]\n",
    "for i in range(1,100):\n",
    "    U_s, s, i = generate_distribution(U_s, s, N, weights, outputs, offsets)\n",
    "    counts[i] += 1\n",
    "\n",
    "print(counts)"
   ]
  }
 ],
 "metadata": {
  "kernelspec": {
   "display_name": ".venv",
   "language": "python",
   "name": "python3"
  },
  "language_info": {
   "codemirror_mode": {
    "name": "ipython",
    "version": 3
   },
   "file_extension": ".py",
   "mimetype": "text/x-python",
   "name": "python",
   "nbconvert_exporter": "python",
   "pygments_lexer": "ipython3",
   "version": "3.13.3"
  }
 },
 "nbformat": 4,
 "nbformat_minor": 5
}
