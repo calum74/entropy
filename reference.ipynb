{
 "cells": [
  {
   "cell_type": "markdown",
   "id": "36c65915",
   "metadata": {},
   "source": [
    "# Algorithms\n",
    "\n",
    "These are the algorithms verbatim from the paper."
   ]
  },
  {
   "cell_type": "code",
   "execution_count": 318,
   "id": "8f2f9963",
   "metadata": {},
   "outputs": [],
   "source": [
    "# Algorithm 1\n",
    "\n",
    "def combine(U_n, n, U_m, m):\n",
    "    U_nm = U_n * m + U_m\n",
    "    nm = n*m\n",
    "    return U_nm, nm"
   ]
  },
  {
   "cell_type": "code",
   "execution_count": 319,
   "id": "988b2d65",
   "metadata": {},
   "outputs": [],
   "source": [
    "# Algorithm 2\n",
    "\n",
    "def divide(U_nm, nm, n):\n",
    "    U_m = U_nm // n\n",
    "    U_n = U_nm % n\n",
    "    m = nm // n\n",
    "    return U_m, m, U_n"
   ]
  },
  {
   "cell_type": "code",
   "execution_count": 320,
   "id": "82706e22",
   "metadata": {},
   "outputs": [],
   "source": [
    "# Algorithm 3\n",
    "\n",
    "def sample(U_n, n, m):\n",
    "    if U_n < m:\n",
    "        B = 1\n",
    "        x = m\n",
    "        U_x = U_n\n",
    "    else:\n",
    "        B = 0\n",
    "        x = n-m\n",
    "        U_x = U_n - m\n",
    "    return U_x, x, B"
   ]
  },
  {
   "cell_type": "code",
   "execution_count": 321,
   "id": "e10869dd",
   "metadata": {},
   "outputs": [],
   "source": [
    "# Algorithm 4\n",
    "\n",
    "def expand(U_x, B, m):\n",
    "    if B:\n",
    "        U_n = U_x\n",
    "    else:\n",
    "        U_n = m + U_x\n",
    "    return U_n"
   ]
  },
  {
   "cell_type": "code",
   "execution_count": 322,
   "id": "f8549b85",
   "metadata": {},
   "outputs": [],
   "source": [
    "import random\n",
    "\n",
    "def fetch():\n",
    "    return random.randint(0,1)"
   ]
  },
  {
   "cell_type": "code",
   "execution_count": 323,
   "id": "fe90e6cd",
   "metadata": {},
   "outputs": [],
   "source": [
    "# Algorithm 5\n",
    "\n",
    "def generate_uniform(U_s, s, n, N):\n",
    "    while True:\n",
    "        while s < N:\n",
    "            U_s, s = combine(U_s, s, fetch(), 2)\n",
    "        U_s, s, b = sample(U_s, s,s%n)\n",
    "        if not b:\n",
    "            U_s, s, U_n = divide(U_s, s, n)\n",
    "            return U_s, s, U_n"
   ]
  },
  {
   "cell_type": "code",
   "execution_count": 324,
   "id": "985ea6c0",
   "metadata": {},
   "outputs": [],
   "source": [
    "# Algorithm 6\n",
    "\n",
    "def generate_bernoulli(U_s, s, m, n, N):\n",
    "    U_s, s, U_n = generate_uniform(U_s, s, n, N)\n",
    "    U_x, x, B = sample(U_n, n, m)\n",
    "    U_s, s = combine(U_s, s, U_x, x)\n",
    "    return U_s, s, B"
   ]
  },
  {
   "cell_type": "code",
   "execution_count": 325,
   "id": "7d7c8201",
   "metadata": {},
   "outputs": [],
   "source": [
    "# Algorithm 7\n",
    "\n",
    "def make_distribution(weights):\n",
    "    outputs = []\n",
    "    offsets = []\n",
    "    for i, w_i in enumerate(weights):\n",
    "        offsets = offsets + [len(outputs)]\n",
    "        outputs = outputs + [i]*w_i\n",
    "    return outputs, offsets"
   ]
  },
  {
   "cell_type": "markdown",
   "id": "c748a9c0",
   "metadata": {},
   "source": [
    "TODO: This does not match the paper\n",
    "\n",
    "TODO: document the output $i$"
   ]
  },
  {
   "cell_type": "code",
   "execution_count": 326,
   "id": "481415be",
   "metadata": {},
   "outputs": [],
   "source": [
    "# Algorithm 8\n",
    "\n",
    "def generate_distribution(U_s, s, N, weights, outputs, offsets):\n",
    "    U_s, s, U_n = generate_uniform(U_s, s, len(outputs), N)\n",
    "    i = outputs[U_n]\n",
    "    U_s, s = combine(U_s, s, U_n - offsets[i], weights[i])\n",
    "    return U_s, s, i"
   ]
  },
  {
   "cell_type": "code",
   "execution_count": 327,
   "id": "3a9c1f05",
   "metadata": {},
   "outputs": [],
   "source": [
    "# Algorithm 9\n",
    "\n",
    "def combine_bernoulli(U_s, s, N, m, n, B):\n",
    "    if B:\n",
    "        x = m\n",
    "    else:\n",
    "        x = n-m    \n",
    "    U_s, s, U_x = generate_uniform(U_s, s, x, N)\n",
    "    U_n = expand(U_x, B, m)\n",
    "    U_s, s = combine(U_s, s, U_n, n)\n",
    "    return U_s, s"
   ]
  },
  {
   "cell_type": "code",
   "execution_count": 328,
   "id": "cb38355f",
   "metadata": {},
   "outputs": [],
   "source": [
    "# Algorithm 10\n",
    "\n",
    "def combine_distribution(U_s, s, N, weights, outputs, offsets, i):\n",
    "    U_s, s, U_x = generate_uniform (U_s, s, weights[i], N)\n",
    "    U_s, s = combine(U_s, s, U_x + offsets[i], len(outputs))\n",
    "    return U_s, s"
   ]
  },
  {
   "cell_type": "markdown",
   "id": "113aa277",
   "metadata": {},
   "source": [
    "# Graphs\n",
    "\n",
    "Here are the functions used to calculate the graphs:"
   ]
  },
  {
   "cell_type": "code",
   "execution_count": 329,
   "id": "04d5b125",
   "metadata": {},
   "outputs": [
    {
     "data": {
      "text/plain": [
       "0.9999999247888398"
      ]
     },
     "execution_count": 329,
     "metadata": {},
     "output_type": "execute_result"
    }
   ],
   "source": [
    "import math\n",
    "\n",
    "def von_neumann_uniform_loss(n):\n",
    "    r = 1 # The smallest power of 2 >= than range \n",
    "    b = 0 # The number of bits in r\n",
    "    while r < n:\n",
    "        r *= 2\n",
    "        b += 1\n",
    "    return r*b/n - math.log2(n)\n",
    "\n",
    "def knuth_yao_uniform_loss(n):\n",
    "    def calculate_fdr_exact(u, depth):\n",
    "        count = 0\n",
    "        while u<n:\n",
    "            u *= 2\n",
    "            count += 1\n",
    "        if n==u or depth==1:\n",
    "            return count\n",
    "        p = n/u\n",
    "        return count + (1-p) * calculate_fdr_exact(u-n, depth-1)\n",
    "\n",
    "    return calculate_fdr_exact(1, 8) - math.log2(n)\n",
    "\n",
    "def epsilon(n, N):\n",
    "    if n==1:\n",
    "        return 0\n",
    "    p = (n-1)/N\n",
    "    return -(p/(1-p))*math.log2(p) - math.log2(1-p)\n",
    "\n",
    "def es_uniform_loss(bits):\n",
    "    N = 1<<(bits-1)\n",
    "    def loss(n):\n",
    "        return epsilon(n, N)\n",
    "    return loss\n",
    "\n",
    "def binary_entropy(p):\n",
    "    if p==0:\n",
    "        return 0\n",
    "    return -p*math.log2(p) - (1-p)*math.log2(1-p)\n",
    "\n",
    "def es_real_uniform_loss(bits):\n",
    "    s = 1\n",
    "    N = 1<<(bits-1)\n",
    "    def loss(n):\n",
    "        nonlocal s\n",
    "        while s<N:\n",
    "            s = s * 2\n",
    "        p = (s%n)/s\n",
    "        s = s/n\n",
    "        return binary_entropy(p)\n",
    "    return loss\n",
    "\n",
    "def card_shuffling_loss(lossfn):\n",
    "    def loss(size):\n",
    "        nonlocal lossfn\n",
    "        total = 0\n",
    "        for i in range(1,size+1):\n",
    "            total += lossfn(i)\n",
    "        return total\n",
    "    return loss\n",
    "\n",
    "def card_shuffling_efficiency(lossfn):\n",
    "    def efficiency(n):\n",
    "        nonlocal lossfn\n",
    "        output = 0\n",
    "        loss = 0\n",
    "        for i in range(1,n+1):\n",
    "            output += math.log2(i)\n",
    "            loss += lossfn(i)\n",
    "        return output / (output + loss)\n",
    "    return efficiency\n",
    "\n",
    "\n",
    "\n",
    "knuth_yao_uniform_loss(5), von_neumann_uniform_loss(5)\n",
    "es_uniform_loss(32)(5), es_real_uniform_loss(32)(5)\n",
    "card_shuffling_loss(knuth_yao_uniform_loss)(52)\n",
    "\n",
    "card_shuffling_efficiency(es_uniform_loss(32))(52)\n"
   ]
  },
  {
   "cell_type": "markdown",
   "id": "4484bd23",
   "metadata": {},
   "source": [
    "```\n",
    "def expected_interval(p):\n",
    "    def simulate(depth, range, delta):\n",
    "        if range>=p or depth>10 or range+delta<=p:\n",
    "            return depth * delta\n",
    "        delta *= 0.5\n",
    "        depth += 1\n",
    "        return simulate(depth, range, delta) + simulate(depth, range+delta, delta)\n",
    "\n",
    "    return simulate(0, 0, 1)\n",
    "\n",
    "def expected_interval_loss(p):\n",
    "    return expected_interval(p) - binary_entropy(p)\n",
    "```"
   ]
  },
  {
   "cell_type": "markdown",
   "id": "afe60298",
   "metadata": {},
   "source": [
    "# Testing"
   ]
  },
  {
   "cell_type": "code",
   "execution_count": 330,
   "id": "4b60816d",
   "metadata": {},
   "outputs": [
    {
     "data": {
      "text/plain": [
       "2"
      ]
     },
     "execution_count": 330,
     "metadata": {},
     "output_type": "execute_result"
    }
   ],
   "source": [
    "U_s = 0\n",
    "s = 1\n",
    "N = 1<<31\n",
    "\n",
    "U_s, s, U_n = generate_uniform(U_s, s, 6, N)\n",
    "\n",
    "U_n"
   ]
  },
  {
   "cell_type": "code",
   "execution_count": null,
   "id": "fa42184d",
   "metadata": {},
   "outputs": [],
   "source": []
  },
  {
   "cell_type": "code",
   "execution_count": 331,
   "id": "861fb5fe",
   "metadata": {},
   "outputs": [
    {
     "data": {
      "text/plain": [
       "0"
      ]
     },
     "execution_count": 331,
     "metadata": {},
     "output_type": "execute_result"
    }
   ],
   "source": [
    "U_s, s, B = generate_bernoulli(U_s, s, 1, 3, N)\n",
    "B"
   ]
  },
  {
   "cell_type": "code",
   "execution_count": 332,
   "id": "12138e0e",
   "metadata": {},
   "outputs": [
    {
     "name": "stdout",
     "output_type": "stream",
     "text": [
      "[86, 13]\n"
     ]
    }
   ],
   "source": [
    "counts = [0,0]\n",
    "for i in range(1,100):\n",
    "    U_s, s, B = generate_bernoulli(U_s, s, 1, 6, N)\n",
    "    counts[B] += 1\n",
    "\n",
    "print(counts)"
   ]
  },
  {
   "cell_type": "code",
   "execution_count": 333,
   "id": "1f754ac8",
   "metadata": {},
   "outputs": [
    {
     "data": {
      "text/plain": [
       "([0, 1, 1, 2, 2, 2], [0, 1, 3])"
      ]
     },
     "execution_count": 333,
     "metadata": {},
     "output_type": "execute_result"
    }
   ],
   "source": [
    "make_distribution([1,2,3])"
   ]
  },
  {
   "cell_type": "code",
   "execution_count": 334,
   "id": "1552cddf",
   "metadata": {},
   "outputs": [
    {
     "data": {
      "text/plain": [
       "2"
      ]
     },
     "execution_count": 334,
     "metadata": {},
     "output_type": "execute_result"
    }
   ],
   "source": [
    "weights = [1,2,3]\n",
    "outputs, offsets = make_distribution(weights)\n",
    "U_s, s, x = generate_distribution(U_s, s, N, weights, outputs, offsets)\n",
    "\n",
    "x"
   ]
  },
  {
   "cell_type": "code",
   "execution_count": 335,
   "id": "681d4d73",
   "metadata": {},
   "outputs": [
    {
     "name": "stdout",
     "output_type": "stream",
     "text": [
      "[28, 28, 43]\n"
     ]
    }
   ],
   "source": [
    "counts = [0,0,0]\n",
    "for i in range(1,100):\n",
    "    U_s, s, i = generate_distribution(U_s, s, N, weights, outputs, offsets)\n",
    "    counts[i] += 1\n",
    "\n",
    "print(counts)"
   ]
  }
 ],
 "metadata": {
  "kernelspec": {
   "display_name": ".venv",
   "language": "python",
   "name": "python3"
  },
  "language_info": {
   "codemirror_mode": {
    "name": "ipython",
    "version": 3
   },
   "file_extension": ".py",
   "mimetype": "text/x-python",
   "name": "python",
   "nbconvert_exporter": "python",
   "pygments_lexer": "ipython3",
   "version": "3.13.3"
  }
 },
 "nbformat": 4,
 "nbformat_minor": 5
}
